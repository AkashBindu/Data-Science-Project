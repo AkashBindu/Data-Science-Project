{
 "cells": [
  {
   "cell_type": "code",
   "execution_count": 12,
   "id": "f27b72de",
   "metadata": {},
   "outputs": [],
   "source": [
    "import numpy as np\n",
    "import pandas as pd\n",
    "import matplotlib.pyplot as plt\n",
    "import seaborn as sns\n",
    "import math as mymath"
   ]
  },
  {
   "cell_type": "code",
   "execution_count": 13,
   "id": "1001b47f",
   "metadata": {},
   "outputs": [],
   "source": [
    "file = \"C:/Users/ppbin/OneDrive/Desktop/Ak Data Analytics23/Datascience/E-commerce.xlsx\"\n",
    "data= pd.read_excel(file) #reading file"
   ]
  },
  {
   "cell_type": "code",
   "execution_count": 14,
   "id": "b22d6d6c",
   "metadata": {},
   "outputs": [
    {
     "data": {
      "text/plain": [
       "<bound method NDFrame.head of              server_time device_type  user_id  session_id  item_id  \\\n",
       "0    2018-10-18 14:27:00     android  87862.0    268465.0  44459.0   \n",
       "1    2018-10-18 14:27:00     android  63410.0    268465.0  44459.0   \n",
       "2    2018-10-18 14:43:00     android  71748.0    268465.0  44459.0   \n",
       "3    2018-10-18 14:46:00     android  69209.0    268465.0  44459.0   \n",
       "4    2018-10-18 14:46:00     android  62873.0    268465.0  44459.0   \n",
       "...                  ...         ...      ...         ...      ...   \n",
       "2020 2018-11-03 12:39:00     android   8146.0    284263.0   5754.0   \n",
       "2021 2018-11-03 12:39:00     android  43622.0    284263.0  28621.0   \n",
       "2022 2018-11-03 12:41:00     android  12923.0    284263.0  28621.0   \n",
       "2023 2018-10-20 22:59:00     android  26523.0    418685.0  36253.0   \n",
       "2024 2018-10-20 23:01:00     android  91568.0    418685.0  25054.0   \n",
       "\n",
       "      item_price  category  product_type     impression_time  app_code  \\\n",
       "0         4602.0      11.0        3040.0 2018-11-15 00:00:00     422.0   \n",
       "1         3513.0      12.0        6822.0 2018-11-15 00:01:00     467.0   \n",
       "2          825.0      17.0        1619.0 2018-11-15 00:02:00     259.0   \n",
       "3         2355.0      13.0        5264.0 2018-11-15 00:02:00     244.0   \n",
       "4         1267.0      17.0       10239.0 2018-11-15 00:02:00     473.0   \n",
       "...          ...       ...           ...                 ...       ...   \n",
       "2020      2125.0      13.0        1762.0 2018-11-15 09:46:00     207.0   \n",
       "2021      2874.0      10.0        9375.0 2018-11-15 09:46:00     207.0   \n",
       "2022      6105.0      17.0        2637.0 2018-11-15 09:46:00       3.0   \n",
       "2023      3444.0       7.0        2037.0 2018-11-15 09:47:00     207.0   \n",
       "2024      2035.0      17.0        2150.0 2018-11-15 09:47:00     129.0   \n",
       "\n",
       "        os_version  is_4G  is_click  \n",
       "0              old      0         0  \n",
       "1           latest      1         1  \n",
       "2     intermediate      1         0  \n",
       "3           latest      1         0  \n",
       "4           latest      0         0  \n",
       "...            ...    ...       ...  \n",
       "2020        latest      1         0  \n",
       "2021        latest      1         0  \n",
       "2022        latest      1         0  \n",
       "2023        latest      0         0  \n",
       "2024           old      0         0  \n",
       "\n",
       "[2025 rows x 13 columns]>"
      ]
     },
     "execution_count": 14,
     "metadata": {},
     "output_type": "execute_result"
    }
   ],
   "source": [
    "data.head"
   ]
  },
  {
   "cell_type": "code",
   "execution_count": 15,
   "id": "355163e6",
   "metadata": {},
   "outputs": [
    {
     "data": {
      "text/html": [
       "<div>\n",
       "<style scoped>\n",
       "    .dataframe tbody tr th:only-of-type {\n",
       "        vertical-align: middle;\n",
       "    }\n",
       "\n",
       "    .dataframe tbody tr th {\n",
       "        vertical-align: top;\n",
       "    }\n",
       "\n",
       "    .dataframe thead th {\n",
       "        text-align: right;\n",
       "    }\n",
       "</style>\n",
       "<table border=\"1\" class=\"dataframe\">\n",
       "  <thead>\n",
       "    <tr style=\"text-align: right;\">\n",
       "      <th></th>\n",
       "      <th>server_time</th>\n",
       "      <th>device_type</th>\n",
       "      <th>user_id</th>\n",
       "      <th>session_id</th>\n",
       "      <th>item_id</th>\n",
       "      <th>item_price</th>\n",
       "      <th>category</th>\n",
       "      <th>product_type</th>\n",
       "      <th>impression_time</th>\n",
       "      <th>app_code</th>\n",
       "      <th>os_version</th>\n",
       "      <th>is_4G</th>\n",
       "      <th>is_click</th>\n",
       "    </tr>\n",
       "  </thead>\n",
       "  <tbody>\n",
       "    <tr>\n",
       "      <th>0</th>\n",
       "      <td>False</td>\n",
       "      <td>False</td>\n",
       "      <td>False</td>\n",
       "      <td>False</td>\n",
       "      <td>False</td>\n",
       "      <td>False</td>\n",
       "      <td>False</td>\n",
       "      <td>False</td>\n",
       "      <td>False</td>\n",
       "      <td>False</td>\n",
       "      <td>False</td>\n",
       "      <td>False</td>\n",
       "      <td>False</td>\n",
       "    </tr>\n",
       "    <tr>\n",
       "      <th>1</th>\n",
       "      <td>False</td>\n",
       "      <td>False</td>\n",
       "      <td>False</td>\n",
       "      <td>False</td>\n",
       "      <td>False</td>\n",
       "      <td>False</td>\n",
       "      <td>False</td>\n",
       "      <td>False</td>\n",
       "      <td>False</td>\n",
       "      <td>False</td>\n",
       "      <td>False</td>\n",
       "      <td>False</td>\n",
       "      <td>False</td>\n",
       "    </tr>\n",
       "    <tr>\n",
       "      <th>2</th>\n",
       "      <td>False</td>\n",
       "      <td>False</td>\n",
       "      <td>False</td>\n",
       "      <td>False</td>\n",
       "      <td>False</td>\n",
       "      <td>False</td>\n",
       "      <td>False</td>\n",
       "      <td>False</td>\n",
       "      <td>False</td>\n",
       "      <td>False</td>\n",
       "      <td>False</td>\n",
       "      <td>False</td>\n",
       "      <td>False</td>\n",
       "    </tr>\n",
       "    <tr>\n",
       "      <th>3</th>\n",
       "      <td>False</td>\n",
       "      <td>False</td>\n",
       "      <td>False</td>\n",
       "      <td>False</td>\n",
       "      <td>False</td>\n",
       "      <td>False</td>\n",
       "      <td>False</td>\n",
       "      <td>False</td>\n",
       "      <td>False</td>\n",
       "      <td>False</td>\n",
       "      <td>False</td>\n",
       "      <td>False</td>\n",
       "      <td>False</td>\n",
       "    </tr>\n",
       "    <tr>\n",
       "      <th>4</th>\n",
       "      <td>False</td>\n",
       "      <td>False</td>\n",
       "      <td>False</td>\n",
       "      <td>False</td>\n",
       "      <td>False</td>\n",
       "      <td>False</td>\n",
       "      <td>False</td>\n",
       "      <td>False</td>\n",
       "      <td>False</td>\n",
       "      <td>False</td>\n",
       "      <td>False</td>\n",
       "      <td>False</td>\n",
       "      <td>False</td>\n",
       "    </tr>\n",
       "    <tr>\n",
       "      <th>...</th>\n",
       "      <td>...</td>\n",
       "      <td>...</td>\n",
       "      <td>...</td>\n",
       "      <td>...</td>\n",
       "      <td>...</td>\n",
       "      <td>...</td>\n",
       "      <td>...</td>\n",
       "      <td>...</td>\n",
       "      <td>...</td>\n",
       "      <td>...</td>\n",
       "      <td>...</td>\n",
       "      <td>...</td>\n",
       "      <td>...</td>\n",
       "    </tr>\n",
       "    <tr>\n",
       "      <th>2020</th>\n",
       "      <td>False</td>\n",
       "      <td>False</td>\n",
       "      <td>False</td>\n",
       "      <td>False</td>\n",
       "      <td>False</td>\n",
       "      <td>False</td>\n",
       "      <td>False</td>\n",
       "      <td>False</td>\n",
       "      <td>False</td>\n",
       "      <td>False</td>\n",
       "      <td>False</td>\n",
       "      <td>False</td>\n",
       "      <td>False</td>\n",
       "    </tr>\n",
       "    <tr>\n",
       "      <th>2021</th>\n",
       "      <td>False</td>\n",
       "      <td>False</td>\n",
       "      <td>False</td>\n",
       "      <td>False</td>\n",
       "      <td>False</td>\n",
       "      <td>False</td>\n",
       "      <td>False</td>\n",
       "      <td>False</td>\n",
       "      <td>False</td>\n",
       "      <td>False</td>\n",
       "      <td>False</td>\n",
       "      <td>False</td>\n",
       "      <td>False</td>\n",
       "    </tr>\n",
       "    <tr>\n",
       "      <th>2022</th>\n",
       "      <td>False</td>\n",
       "      <td>False</td>\n",
       "      <td>False</td>\n",
       "      <td>False</td>\n",
       "      <td>False</td>\n",
       "      <td>False</td>\n",
       "      <td>False</td>\n",
       "      <td>False</td>\n",
       "      <td>False</td>\n",
       "      <td>False</td>\n",
       "      <td>False</td>\n",
       "      <td>False</td>\n",
       "      <td>False</td>\n",
       "    </tr>\n",
       "    <tr>\n",
       "      <th>2023</th>\n",
       "      <td>False</td>\n",
       "      <td>False</td>\n",
       "      <td>False</td>\n",
       "      <td>False</td>\n",
       "      <td>False</td>\n",
       "      <td>False</td>\n",
       "      <td>False</td>\n",
       "      <td>False</td>\n",
       "      <td>False</td>\n",
       "      <td>False</td>\n",
       "      <td>False</td>\n",
       "      <td>False</td>\n",
       "      <td>False</td>\n",
       "    </tr>\n",
       "    <tr>\n",
       "      <th>2024</th>\n",
       "      <td>False</td>\n",
       "      <td>False</td>\n",
       "      <td>False</td>\n",
       "      <td>False</td>\n",
       "      <td>False</td>\n",
       "      <td>False</td>\n",
       "      <td>False</td>\n",
       "      <td>False</td>\n",
       "      <td>False</td>\n",
       "      <td>False</td>\n",
       "      <td>False</td>\n",
       "      <td>False</td>\n",
       "      <td>False</td>\n",
       "    </tr>\n",
       "  </tbody>\n",
       "</table>\n",
       "<p>2025 rows × 13 columns</p>\n",
       "</div>"
      ],
      "text/plain": [
       "      server_time  device_type  user_id  session_id  item_id  item_price  \\\n",
       "0           False        False    False       False    False       False   \n",
       "1           False        False    False       False    False       False   \n",
       "2           False        False    False       False    False       False   \n",
       "3           False        False    False       False    False       False   \n",
       "4           False        False    False       False    False       False   \n",
       "...           ...          ...      ...         ...      ...         ...   \n",
       "2020        False        False    False       False    False       False   \n",
       "2021        False        False    False       False    False       False   \n",
       "2022        False        False    False       False    False       False   \n",
       "2023        False        False    False       False    False       False   \n",
       "2024        False        False    False       False    False       False   \n",
       "\n",
       "      category  product_type  impression_time  app_code  os_version  is_4G  \\\n",
       "0        False         False            False     False       False  False   \n",
       "1        False         False            False     False       False  False   \n",
       "2        False         False            False     False       False  False   \n",
       "3        False         False            False     False       False  False   \n",
       "4        False         False            False     False       False  False   \n",
       "...        ...           ...              ...       ...         ...    ...   \n",
       "2020     False         False            False     False       False  False   \n",
       "2021     False         False            False     False       False  False   \n",
       "2022     False         False            False     False       False  False   \n",
       "2023     False         False            False     False       False  False   \n",
       "2024     False         False            False     False       False  False   \n",
       "\n",
       "      is_click  \n",
       "0        False  \n",
       "1        False  \n",
       "2        False  \n",
       "3        False  \n",
       "4        False  \n",
       "...        ...  \n",
       "2020     False  \n",
       "2021     False  \n",
       "2022     False  \n",
       "2023     False  \n",
       "2024     False  \n",
       "\n",
       "[2025 rows x 13 columns]"
      ]
     },
     "execution_count": 15,
     "metadata": {},
     "output_type": "execute_result"
    }
   ],
   "source": [
    "data.isnull()"
   ]
  },
  {
   "cell_type": "code",
   "execution_count": 16,
   "id": "b7d0ba24",
   "metadata": {},
   "outputs": [
    {
     "name": "stdout",
     "output_type": "stream",
     "text": [
      "<class 'pandas.core.frame.DataFrame'>\n",
      "RangeIndex: 2025 entries, 0 to 2024\n",
      "Data columns (total 13 columns):\n",
      " #   Column           Non-Null Count  Dtype         \n",
      "---  ------           --------------  -----         \n",
      " 0   server_time      2025 non-null   datetime64[ns]\n",
      " 1   device_type      2025 non-null   object        \n",
      " 2   user_id          2022 non-null   float64       \n",
      " 3   session_id       2024 non-null   float64       \n",
      " 4   item_id          2023 non-null   float64       \n",
      " 5   item_price       2024 non-null   float64       \n",
      " 6   category         2019 non-null   float64       \n",
      " 7   product_type     2024 non-null   float64       \n",
      " 8   impression_time  2025 non-null   datetime64[ns]\n",
      " 9   app_code         2024 non-null   float64       \n",
      " 10  os_version       2016 non-null   object        \n",
      " 11  is_4G            2025 non-null   int64         \n",
      " 12  is_click         2025 non-null   int64         \n",
      "dtypes: datetime64[ns](2), float64(7), int64(2), object(2)\n",
      "memory usage: 205.8+ KB\n"
     ]
    }
   ],
   "source": [
    "data.info()"
   ]
  },
  {
   "cell_type": "code",
   "execution_count": 17,
   "id": "52453cb9",
   "metadata": {},
   "outputs": [
    {
     "data": {
      "text/plain": [
       "Index(['server_time', 'device_type', 'user_id', 'session_id', 'item_id',\n",
       "       'item_price', 'category', 'product_type', 'impression_time', 'app_code',\n",
       "       'os_version', 'is_4G', 'is_click'],\n",
       "      dtype='object')"
      ]
     },
     "execution_count": 17,
     "metadata": {},
     "output_type": "execute_result"
    }
   ],
   "source": [
    "data.columns"
   ]
  },
  {
   "cell_type": "code",
   "execution_count": 18,
   "id": "208aa971",
   "metadata": {},
   "outputs": [
    {
     "data": {
      "image/png": "[encoded data removed]",
      "text/plain": [
       "<Figure size 800x500 with 1 Axes>"
      ]
     },
     "metadata": {},
     "output_type": "display_data"
    }
   ],
   "source": [
    "# Visualize the distribution of sales by age groups.\n",
    "plt.figure(figsize=(8,5))\n",
    "data.is_click.value_counts().plot(kind='pie', autopct='%1.0f%%')\n",
    "plt.axis('equal')\n",
    "plt.title(\"is_click Distribution\", fontsize='18')\n",
    "plt.show()"
   ]
  },
  {
   "cell_type": "code",
   "execution_count": 8,
   "id": "e90d26a0",
   "metadata": {},
   "outputs": [
    {
     "data": {
      "text/plain": [
       "<Axes: >"
      ]
     },
     "execution_count": 8,
     "metadata": {},
     "output_type": "execute_result"
    },
    {
     "data": {
      "image/png": "[encoded data removed]",
      "text/plain": [
       "<Figure size 640x480 with 1 Axes>"
      ]
     },
     "metadata": {},
     "output_type": "display_data"
    }
   ],
   "source": [
    "sns.boxplot(data=data)"
   ]
  },
  {
   "cell_type": "code",
   "execution_count": 7,
   "id": "13fdb235",
   "metadata": {},
   "outputs": [
    {
     "data": {
      "text/plain": [
       "0       0\n",
       "1       1\n",
       "2       0\n",
       "3       0\n",
       "4       0\n",
       "       ..\n",
       "2020    0\n",
       "2021    0\n",
       "2022    0\n",
       "2023    0\n",
       "2024    0\n",
       "Name: is_click, Length: 2025, dtype: int64"
      ]
     },
     "execution_count": 7,
     "metadata": {},
     "output_type": "execute_result"
    }
   ],
   "source": [
    "is_click=data['is_click']\n",
    "is_click"
   ]
  },
  {
   "cell_type": "code",
   "execution_count": 10,
   "id": "e6f38b8b",
   "metadata": {},
   "outputs": [
    {
     "data": {
      "text/plain": [
       "0    1924\n",
       "1     101\n",
       "Name: is_click, dtype: int64"
      ]
     },
     "execution_count": 10,
     "metadata": {},
     "output_type": "execute_result"
    }
   ],
   "source": [
    "data['is_click'].value_counts()"
   ]
  },
  {
   "cell_type": "code",
   "execution_count": 22,
   "id": "da3f90d6",
   "metadata": {},
   "outputs": [
    {
     "data": {
      "text/plain": [
       "0.04987654320987654"
      ]
     },
     "execution_count": 22,
     "metadata": {},
     "output_type": "execute_result"
    }
   ],
   "source": [
    "click_prob = 101/2025 \n",
    "click_prob"
   ]
  },
  {
   "cell_type": "code",
   "execution_count": 24,
   "id": "7ad2c550",
   "metadata": {},
   "outputs": [
    {
     "name": "stdout",
     "output_type": "stream",
     "text": [
      "click probability = 0.04987654320987654\n"
     ]
    }
   ],
   "source": [
    "print('click probability =', click_prob)"
   ]
  },
  {
   "cell_type": "code",
   "execution_count": null,
   "id": "e3b8e5ad",
   "metadata": {},
   "outputs": [],
   "source": []
  }
 ],
 "metadata": {
  "kernelspec": {
   "display_name": "Python 3 (ipykernel)",
   "language": "python",
   "name": "python3"
  },
  "language_info": {
   "codemirror_mode": {
    "name": "ipython",
    "version": 3
   },
   "file_extension": ".py",
   "mimetype": "text/x-python",
   "name": "python",
   "nbconvert_exporter": "python",
   "pygments_lexer": "ipython3",
   "version": "3.10.9"
  }
 },
 "nbformat": 4,
 "nbformat_minor": 5
}
