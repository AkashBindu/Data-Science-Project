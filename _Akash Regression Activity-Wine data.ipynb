{
 "cells": [
  {
   "cell_type": "code",
   "execution_count": 221,
   "id": "e7991952",
   "metadata": {},
   "outputs": [],
   "source": [
    "import numpy as np\n",
    "import pandas as pd\n",
    "import seaborn as sns\n",
    "import pandas as pd\n",
    "import matplotlib.pyplot as plt\n",
    "from scipy import stats\n",
    "import math as mymath\n",
    "from sklearn.metrics import mean_squared_error\n",
    "from sklearn.model_selection import cross_val_score\n",
    "from sklearn.linear_model import LinearRegression\n",
    "import seaborn as sns"
   ]
  },
  {
   "cell_type": "code",
   "execution_count": 222,
   "id": "97c2b4ea",
   "metadata": {},
   "outputs": [],
   "source": [
    "from scipy import stats\n",
    "from pandas.plotting import scatter_matrix\n",
    "from statsmodels.formula.api import ols\n",
    "from statsmodels.stats.anova import anova_lm"
   ]
  },
  {
   "cell_type": "code",
   "execution_count": 223,
   "id": "bd4c0755",
   "metadata": {},
   "outputs": [],
   "source": [
    "file = \"C:/Users/ppbin/OneDrive/Desktop/Ak Data Analytics23/Datascience/tip-amount.xlsx\"\n",
    "data= pd.read_excel(file)"
   ]
  },
  {
   "cell_type": "code",
   "execution_count": 224,
   "id": "470a907a",
   "metadata": {},
   "outputs": [
    {
     "data": {
      "text/html": [
       "<div>\n",
       "<style scoped>\n",
       "    .dataframe tbody tr th:only-of-type {\n",
       "        vertical-align: middle;\n",
       "    }\n",
       "\n",
       "    .dataframe tbody tr th {\n",
       "        vertical-align: top;\n",
       "    }\n",
       "\n",
       "    .dataframe thead th {\n",
       "        text-align: right;\n",
       "    }\n",
       "</style>\n",
       "<table border=\"1\" class=\"dataframe\">\n",
       "  <thead>\n",
       "    <tr style=\"text-align: right;\">\n",
       "      <th></th>\n",
       "      <th>Meal</th>\n",
       "      <th>Observed total bill(xi)</th>\n",
       "      <th>Observed tip amount(yi)</th>\n",
       "    </tr>\n",
       "  </thead>\n",
       "  <tbody>\n",
       "    <tr>\n",
       "      <th>0</th>\n",
       "      <td>1</td>\n",
       "      <td>34</td>\n",
       "      <td>5</td>\n",
       "    </tr>\n",
       "    <tr>\n",
       "      <th>1</th>\n",
       "      <td>2</td>\n",
       "      <td>108</td>\n",
       "      <td>17</td>\n",
       "    </tr>\n",
       "    <tr>\n",
       "      <th>2</th>\n",
       "      <td>3</td>\n",
       "      <td>64</td>\n",
       "      <td>11</td>\n",
       "    </tr>\n",
       "    <tr>\n",
       "      <th>3</th>\n",
       "      <td>4</td>\n",
       "      <td>88</td>\n",
       "      <td>8</td>\n",
       "    </tr>\n",
       "    <tr>\n",
       "      <th>4</th>\n",
       "      <td>5</td>\n",
       "      <td>99</td>\n",
       "      <td>14</td>\n",
       "    </tr>\n",
       "  </tbody>\n",
       "</table>\n",
       "</div>"
      ],
      "text/plain": [
       "   Meal  Observed total bill(xi)  Observed tip amount(yi)\n",
       "0     1                       34                        5\n",
       "1     2                      108                       17\n",
       "2     3                       64                       11\n",
       "3     4                       88                        8\n",
       "4     5                       99                       14"
      ]
     },
     "execution_count": 224,
     "metadata": {},
     "output_type": "execute_result"
    }
   ],
   "source": [
    "data.head()"
   ]
  },
  {
   "cell_type": "code",
   "execution_count": 225,
   "id": "aecdad6d",
   "metadata": {},
   "outputs": [
    {
     "data": {
      "text/plain": [
       "Index(['Meal', 'Observed total bill(xi)', 'Observed tip amount(yi)'], dtype='object')"
      ]
     },
     "execution_count": 225,
     "metadata": {},
     "output_type": "execute_result"
    }
   ],
   "source": [
    "data.columns"
   ]
  },
  {
   "cell_type": "code",
   "execution_count": 226,
   "id": "a597e7af",
   "metadata": {},
   "outputs": [
    {
     "data": {
      "image/png": "[encoded data removed]",
      "text/plain": [
       "<Figure size 640x480 with 9 Axes>"
      ]
     },
     "metadata": {},
     "output_type": "display_data"
    }
   ],
   "source": [
    "scatter_matrix(data)\n",
    "plt.show()"
   ]
  },
  {
   "cell_type": "code",
   "execution_count": 227,
   "id": "02b79655",
   "metadata": {},
   "outputs": [],
   "source": [
    "corrmatrix= data.corr()"
   ]
  },
  {
   "cell_type": "code",
   "execution_count": 228,
   "id": "1eeae9a4",
   "metadata": {},
   "outputs": [
    {
     "data": {
      "text/html": [
       "<div>\n",
       "<style scoped>\n",
       "    .dataframe tbody tr th:only-of-type {\n",
       "        vertical-align: middle;\n",
       "    }\n",
       "\n",
       "    .dataframe tbody tr th {\n",
       "        vertical-align: top;\n",
       "    }\n",
       "\n",
       "    .dataframe thead th {\n",
       "        text-align: right;\n",
       "    }\n",
       "</style>\n",
       "<table border=\"1\" class=\"dataframe\">\n",
       "  <thead>\n",
       "    <tr style=\"text-align: right;\">\n",
       "      <th></th>\n",
       "      <th>Meal</th>\n",
       "      <th>Observed total bill(xi)</th>\n",
       "      <th>Observed tip amount(yi)</th>\n",
       "    </tr>\n",
       "  </thead>\n",
       "  <tbody>\n",
       "    <tr>\n",
       "      <th>Meal</th>\n",
       "      <td>1.000000</td>\n",
       "      <td>0.151123</td>\n",
       "      <td>-0.130931</td>\n",
       "    </tr>\n",
       "    <tr>\n",
       "      <th>Observed total bill(xi)</th>\n",
       "      <td>0.151123</td>\n",
       "      <td>1.000000</td>\n",
       "      <td>0.865665</td>\n",
       "    </tr>\n",
       "    <tr>\n",
       "      <th>Observed tip amount(yi)</th>\n",
       "      <td>-0.130931</td>\n",
       "      <td>0.865665</td>\n",
       "      <td>1.000000</td>\n",
       "    </tr>\n",
       "  </tbody>\n",
       "</table>\n",
       "</div>"
      ],
      "text/plain": [
       "                             Meal  Observed total bill(xi)  \\\n",
       "Meal                     1.000000                 0.151123   \n",
       "Observed total bill(xi)  0.151123                 1.000000   \n",
       "Observed tip amount(yi) -0.130931                 0.865665   \n",
       "\n",
       "                         Observed tip amount(yi)  \n",
       "Meal                                   -0.130931  \n",
       "Observed total bill(xi)                 0.865665  \n",
       "Observed tip amount(yi)                 1.000000  "
      ]
     },
     "execution_count": 228,
     "metadata": {},
     "output_type": "execute_result"
    }
   ],
   "source": [
    "corrmatrix"
   ]
  },
  {
   "cell_type": "code",
   "execution_count": 229,
   "id": "0e6e059e",
   "metadata": {},
   "outputs": [],
   "source": [
    "#training and testing is used if the model used is correct\n",
    "#drop on X\n",
    "X= data.drop(['Meal', 'Observed tip amount(yi)'], axis=1)\n",
    "y= data['Observed tip amount(yi)']"
   ]
  },
  {
   "cell_type": "code",
   "execution_count": 230,
   "id": "077c620d",
   "metadata": {},
   "outputs": [],
   "source": [
    "from sklearn.model_selection import train_test_split"
   ]
  },
  {
   "cell_type": "code",
   "execution_count": 231,
   "id": "8fe7e818",
   "metadata": {},
   "outputs": [],
   "source": [
    "#test_size is 0.2 and how we take should be equally random\n",
    "#in this order on;u\n",
    "X_train, X_test, y_train, y_test= train_test_split(X,y, test_size=0.2, random_state=42)"
   ]
  },
  {
   "cell_type": "code",
   "execution_count": 232,
   "id": "9abb0f3d",
   "metadata": {},
   "outputs": [],
   "source": [
    "#take model\n",
    "from sklearn.linear_model import LinearRegression"
   ]
  },
  {
   "cell_type": "code",
   "execution_count": 233,
   "id": "84489731",
   "metadata": {},
   "outputs": [],
   "source": [
    "lr= LinearRegression()"
   ]
  },
  {
   "cell_type": "code",
   "execution_count": 234,
   "id": "f381a630",
   "metadata": {},
   "outputs": [],
   "source": [
    "model= lr.fit(X_train, y_train)"
   ]
  },
  {
   "cell_type": "code",
   "execution_count": 235,
   "id": "a2a8e393",
   "metadata": {},
   "outputs": [],
   "source": [
    "pred= model.predict(X_test)"
   ]
  },
  {
   "cell_type": "code",
   "execution_count": 236,
   "id": "297dafc2",
   "metadata": {},
   "outputs": [
    {
     "data": {
      "text/plain": [
       "array([ 4.31609993, 13.55968078])"
      ]
     },
     "execution_count": 236,
     "metadata": {},
     "output_type": "execute_result"
    }
   ],
   "source": [
    "pred"
   ]
  },
  {
   "cell_type": "code",
   "execution_count": 237,
   "id": "f9055776",
   "metadata": {},
   "outputs": [
    {
     "data": {
      "text/plain": [
       "0     5\n",
       "1    17\n",
       "Name: Observed tip amount(yi), dtype: int64"
      ]
     },
     "execution_count": 237,
     "metadata": {},
     "output_type": "execute_result"
    }
   ],
   "source": [
    "y_test"
   ]
  },
  {
   "cell_type": "code",
   "execution_count": 238,
   "id": "6abc4fff",
   "metadata": {},
   "outputs": [
    {
     "data": {
      "image/png": "[encoded data removed]",
      "text/plain": [
       "<Figure size 640x480 with 1 Axes>"
      ]
     },
     "metadata": {},
     "output_type": "display_data"
    }
   ],
   "source": [
    "#Residual Analysis – Actual Vs Predicted Plot\n",
    "plt.scatter(y_test, pred)\n",
    "plt.title(\"Actual vs Predicted Plot\")\n",
    "plt.xlabel(\"Actual price\")\n",
    "plt.ylabel(\"Predicted price\")\n",
    "plt.grid()\n",
    "plt.show()"
   ]
  },
  {
   "cell_type": "code",
   "execution_count": 239,
   "id": "363dce17",
   "metadata": {},
   "outputs": [],
   "source": [
    "from sklearn.metrics import mean_squared_error"
   ]
  },
  {
   "cell_type": "code",
   "execution_count": 240,
   "id": "517c584a",
   "metadata": {},
   "outputs": [
    {
     "name": "stdout",
     "output_type": "stream",
     "text": [
      "MSE is:  6.151757829712867\n"
     ]
    }
   ],
   "source": [
    "print('MSE is: ', mean_squared_error(y_test, pred))"
   ]
  },
  {
   "cell_type": "code",
   "execution_count": 241,
   "id": "e6bb1535",
   "metadata": {},
   "outputs": [],
   "source": [
    "from sklearn.metrics import r2_score"
   ]
  },
  {
   "cell_type": "code",
   "execution_count": 242,
   "id": "6abdf714",
   "metadata": {},
   "outputs": [
    {
     "name": "stdout",
     "output_type": "stream",
     "text": [
      "R squared value is: 0.8291178380635315\n"
     ]
    }
   ],
   "source": [
    "print('R squared value is:', r2_score(y_test, pred))"
   ]
  },
  {
   "cell_type": "code",
   "execution_count": 243,
   "id": "c6dc4f04",
   "metadata": {},
   "outputs": [
    {
     "data": {
      "text/plain": [
       "<statsmodels.regression.linear_model.RegressionResultsWrapper at 0x206b4884820>"
      ]
     },
     "execution_count": 243,
     "metadata": {},
     "output_type": "execute_result"
    }
   ],
   "source": [
    "# alternative method\n",
    "mymodel = ols(\"y ~ X\", data).fit()\n",
    "mymodel"
   ]
  },
  {
   "cell_type": "code",
   "execution_count": 245,
   "id": "0f4204c0",
   "metadata": {},
   "outputs": [
    {
     "name": "stderr",
     "output_type": "stream",
     "text": [
      "C:\\Users\\ppbin\\anaconda3\\lib\\site-packages\\statsmodels\\stats\\stattools.py:74: ValueWarning: omni_normtest is not valid with less than 8 observations; 6 samples were given.\n",
      "  warn(\"omni_normtest is not valid with less than 8 observations; %i \"\n"
     ]
    },
    {
     "data": {
      "text/html": [
       "<table class=\"simpletable\">\n",
       "<caption>OLS Regression Results</caption>\n",
       "<tr>\n",
       "  <th>Dep. Variable:</th>            <td>y</td>        <th>  R-squared:         </th> <td>   0.749</td>\n",
       "</tr>\n",
       "<tr>\n",
       "  <th>Model:</th>                   <td>OLS</td>       <th>  Adj. R-squared:    </th> <td>   0.687</td>\n",
       "</tr>\n",
       "<tr>\n",
       "  <th>Method:</th>             <td>Least Squares</td>  <th>  F-statistic:       </th> <td>   11.96</td>\n",
       "</tr>\n",
       "<tr>\n",
       "  <th>Date:</th>             <td>Wed, 24 May 2023</td> <th>  Prob (F-statistic):</th>  <td>0.0259</td> \n",
       "</tr>\n",
       "<tr>\n",
       "  <th>Time:</th>                 <td>21:43:42</td>     <th>  Log-Likelihood:    </th> <td> -13.349</td>\n",
       "</tr>\n",
       "<tr>\n",
       "  <th>No. Observations:</th>      <td>     6</td>      <th>  AIC:               </th> <td>   30.70</td>\n",
       "</tr>\n",
       "<tr>\n",
       "  <th>Df Residuals:</th>          <td>     4</td>      <th>  BIC:               </th> <td>   30.28</td>\n",
       "</tr>\n",
       "<tr>\n",
       "  <th>Df Model:</th>              <td>     1</td>      <th>                     </th>     <td> </td>   \n",
       "</tr>\n",
       "<tr>\n",
       "  <th>Covariance Type:</th>      <td>nonrobust</td>    <th>                     </th>     <td> </td>   \n",
       "</tr>\n",
       "</table>\n",
       "<table class=\"simpletable\">\n",
       "<tr>\n",
       "      <td></td>         <th>coef</th>     <th>std err</th>      <th>t</th>      <th>P>|t|</th>  <th>[0.025</th>    <th>0.975]</th>  \n",
       "</tr>\n",
       "<tr>\n",
       "  <th>Intercept</th> <td>   -0.8203</td> <td>    3.323</td> <td>   -0.247</td> <td> 0.817</td> <td>  -10.046</td> <td>    8.406</td>\n",
       "</tr>\n",
       "<tr>\n",
       "  <th>X</th>         <td>    0.1462</td> <td>    0.042</td> <td>    3.458</td> <td> 0.026</td> <td>    0.029</td> <td>    0.264</td>\n",
       "</tr>\n",
       "</table>\n",
       "<table class=\"simpletable\">\n",
       "<tr>\n",
       "  <th>Omnibus:</th>       <td>   nan</td> <th>  Durbin-Watson:     </th> <td>   2.233</td>\n",
       "</tr>\n",
       "<tr>\n",
       "  <th>Prob(Omnibus):</th> <td>   nan</td> <th>  Jarque-Bera (JB):  </th> <td>   0.647</td>\n",
       "</tr>\n",
       "<tr>\n",
       "  <th>Skew:</th>          <td>-0.694</td> <th>  Prob(JB):          </th> <td>   0.724</td>\n",
       "</tr>\n",
       "<tr>\n",
       "  <th>Kurtosis:</th>      <td> 2.187</td> <th>  Cond. No.          </th> <td>    233.</td>\n",
       "</tr>\n",
       "</table><br/><br/>Notes:<br/>[1] Standard Errors assume that the covariance matrix of the errors is correctly specified."
      ],
      "text/plain": [
       "<class 'statsmodels.iolib.summary.Summary'>\n",
       "\"\"\"\n",
       "                            OLS Regression Results                            \n",
       "==============================================================================\n",
       "Dep. Variable:                      y   R-squared:                       0.749\n",
       "Model:                            OLS   Adj. R-squared:                  0.687\n",
       "Method:                 Least Squares   F-statistic:                     11.96\n",
       "Date:                Wed, 24 May 2023   Prob (F-statistic):             0.0259\n",
       "Time:                        21:43:42   Log-Likelihood:                -13.349\n",
       "No. Observations:                   6   AIC:                             30.70\n",
       "Df Residuals:                       4   BIC:                             30.28\n",
       "Df Model:                           1                                         \n",
       "Covariance Type:            nonrobust                                         \n",
       "==============================================================================\n",
       "                 coef    std err          t      P>|t|      [0.025      0.975]\n",
       "------------------------------------------------------------------------------\n",
       "Intercept     -0.8203      3.323     -0.247      0.817     -10.046       8.406\n",
       "X              0.1462      0.042      3.458      0.026       0.029       0.264\n",
       "==============================================================================\n",
       "Omnibus:                          nan   Durbin-Watson:                   2.233\n",
       "Prob(Omnibus):                    nan   Jarque-Bera (JB):                0.647\n",
       "Skew:                          -0.694   Prob(JB):                        0.724\n",
       "Kurtosis:                       2.187   Cond. No.                         233.\n",
       "==============================================================================\n",
       "\n",
       "Notes:\n",
       "[1] Standard Errors assume that the covariance matrix of the errors is correctly specified.\n",
       "\"\"\""
      ]
     },
     "execution_count": 245,
     "metadata": {},
     "output_type": "execute_result"
    }
   ],
   "source": [
    "mymodel.summary()"
   ]
  },
  {
   "cell_type": "code",
   "execution_count": 246,
   "id": "82758d11",
   "metadata": {},
   "outputs": [],
   "source": [
    "#Wine quality data"
   ]
  },
  {
   "cell_type": "code",
   "execution_count": 247,
   "id": "9cf91b8d",
   "metadata": {},
   "outputs": [],
   "source": [
    "file = \"C:/Users/ppbin/OneDrive/Desktop/Ak Data Analytics23/Datascience/winequality-red.csv\"\n",
    "data= pd.read_csv(file)\n"
   ]
  },
  {
   "cell_type": "code",
   "execution_count": 248,
   "id": "a5840482",
   "metadata": {},
   "outputs": [
    {
     "data": {
      "text/html": [
       "<div>\n",
       "<style scoped>\n",
       "    .dataframe tbody tr th:only-of-type {\n",
       "        vertical-align: middle;\n",
       "    }\n",
       "\n",
       "    .dataframe tbody tr th {\n",
       "        vertical-align: top;\n",
       "    }\n",
       "\n",
       "    .dataframe thead th {\n",
       "        text-align: right;\n",
       "    }\n",
       "</style>\n",
       "<table border=\"1\" class=\"dataframe\">\n",
       "  <thead>\n",
       "    <tr style=\"text-align: right;\">\n",
       "      <th></th>\n",
       "      <th>fixed acidity</th>\n",
       "      <th>volatile acidity</th>\n",
       "      <th>citric acid</th>\n",
       "      <th>residual sugar</th>\n",
       "      <th>chlorides</th>\n",
       "      <th>free sulfur dioxide</th>\n",
       "      <th>total sulfur dioxide</th>\n",
       "      <th>density</th>\n",
       "      <th>pH</th>\n",
       "      <th>sulphates</th>\n",
       "      <th>alcohol</th>\n",
       "      <th>quality</th>\n",
       "    </tr>\n",
       "  </thead>\n",
       "  <tbody>\n",
       "    <tr>\n",
       "      <th>0</th>\n",
       "      <td>7.4</td>\n",
       "      <td>0.70</td>\n",
       "      <td>0.00</td>\n",
       "      <td>1.9</td>\n",
       "      <td>0.076</td>\n",
       "      <td>11.0</td>\n",
       "      <td>34.0</td>\n",
       "      <td>0.9978</td>\n",
       "      <td>3.51</td>\n",
       "      <td>0.56</td>\n",
       "      <td>9.4</td>\n",
       "      <td>5</td>\n",
       "    </tr>\n",
       "    <tr>\n",
       "      <th>1</th>\n",
       "      <td>7.8</td>\n",
       "      <td>0.88</td>\n",
       "      <td>0.00</td>\n",
       "      <td>2.6</td>\n",
       "      <td>0.098</td>\n",
       "      <td>25.0</td>\n",
       "      <td>67.0</td>\n",
       "      <td>0.9968</td>\n",
       "      <td>3.20</td>\n",
       "      <td>0.68</td>\n",
       "      <td>9.8</td>\n",
       "      <td>5</td>\n",
       "    </tr>\n",
       "    <tr>\n",
       "      <th>2</th>\n",
       "      <td>7.8</td>\n",
       "      <td>0.76</td>\n",
       "      <td>0.04</td>\n",
       "      <td>2.3</td>\n",
       "      <td>0.092</td>\n",
       "      <td>15.0</td>\n",
       "      <td>54.0</td>\n",
       "      <td>0.9970</td>\n",
       "      <td>3.26</td>\n",
       "      <td>0.65</td>\n",
       "      <td>9.8</td>\n",
       "      <td>5</td>\n",
       "    </tr>\n",
       "    <tr>\n",
       "      <th>3</th>\n",
       "      <td>11.2</td>\n",
       "      <td>0.28</td>\n",
       "      <td>0.56</td>\n",
       "      <td>1.9</td>\n",
       "      <td>0.075</td>\n",
       "      <td>17.0</td>\n",
       "      <td>60.0</td>\n",
       "      <td>0.9980</td>\n",
       "      <td>3.16</td>\n",
       "      <td>0.58</td>\n",
       "      <td>9.8</td>\n",
       "      <td>6</td>\n",
       "    </tr>\n",
       "    <tr>\n",
       "      <th>4</th>\n",
       "      <td>7.4</td>\n",
       "      <td>0.70</td>\n",
       "      <td>0.00</td>\n",
       "      <td>1.9</td>\n",
       "      <td>0.076</td>\n",
       "      <td>11.0</td>\n",
       "      <td>34.0</td>\n",
       "      <td>0.9978</td>\n",
       "      <td>3.51</td>\n",
       "      <td>0.56</td>\n",
       "      <td>9.4</td>\n",
       "      <td>5</td>\n",
       "    </tr>\n",
       "  </tbody>\n",
       "</table>\n",
       "</div>"
      ],
      "text/plain": [
       "   fixed acidity  volatile acidity  citric acid  residual sugar  chlorides  \\\n",
       "0            7.4              0.70         0.00             1.9      0.076   \n",
       "1            7.8              0.88         0.00             2.6      0.098   \n",
       "2            7.8              0.76         0.04             2.3      0.092   \n",
       "3           11.2              0.28         0.56             1.9      0.075   \n",
       "4            7.4              0.70         0.00             1.9      0.076   \n",
       "\n",
       "   free sulfur dioxide  total sulfur dioxide  density    pH  sulphates  \\\n",
       "0                 11.0                  34.0   0.9978  3.51       0.56   \n",
       "1                 25.0                  67.0   0.9968  3.20       0.68   \n",
       "2                 15.0                  54.0   0.9970  3.26       0.65   \n",
       "3                 17.0                  60.0   0.9980  3.16       0.58   \n",
       "4                 11.0                  34.0   0.9978  3.51       0.56   \n",
       "\n",
       "   alcohol  quality  \n",
       "0      9.4        5  \n",
       "1      9.8        5  \n",
       "2      9.8        5  \n",
       "3      9.8        6  \n",
       "4      9.4        5  "
      ]
     },
     "execution_count": 248,
     "metadata": {},
     "output_type": "execute_result"
    }
   ],
   "source": [
    "df.head()"
   ]
  },
  {
   "cell_type": "code",
   "execution_count": 249,
   "id": "be5be030",
   "metadata": {},
   "outputs": [
    {
     "data": {
      "text/plain": [
       "fixed acidity           0\n",
       "volatile acidity        0\n",
       "citric acid             0\n",
       "residual sugar          0\n",
       "chlorides               0\n",
       "free sulfur dioxide     0\n",
       "total sulfur dioxide    0\n",
       "density                 0\n",
       "pH                      0\n",
       "sulphates               0\n",
       "alcohol                 0\n",
       "quality                 0\n",
       "dtype: int64"
      ]
     },
     "execution_count": 249,
     "metadata": {},
     "output_type": "execute_result"
    }
   ],
   "source": [
    "df.isna().sum()"
   ]
  },
  {
   "cell_type": "code",
   "execution_count": 250,
   "id": "ecca9c4b",
   "metadata": {
    "scrolled": true
   },
   "outputs": [
    {
     "name": "stdout",
     "output_type": "stream",
     "text": [
      "<class 'pandas.core.frame.DataFrame'>\n",
      "Int64Index: 931 entries, 0 to 1597\n",
      "Data columns (total 12 columns):\n",
      " #   Column                Non-Null Count  Dtype  \n",
      "---  ------                --------------  -----  \n",
      " 0   fixed acidity         931 non-null    float64\n",
      " 1   volatile acidity      931 non-null    float64\n",
      " 2   citric acid           931 non-null    float64\n",
      " 3   residual sugar        931 non-null    float64\n",
      " 4   chlorides             931 non-null    float64\n",
      " 5   free sulfur dioxide   931 non-null    float64\n",
      " 6   total sulfur dioxide  931 non-null    float64\n",
      " 7   density               931 non-null    float64\n",
      " 8   pH                    931 non-null    float64\n",
      " 9   sulphates             931 non-null    float64\n",
      " 10  alcohol               931 non-null    float64\n",
      " 11  quality               931 non-null    int64  \n",
      "dtypes: float64(11), int64(1)\n",
      "memory usage: 94.6 KB\n"
     ]
    }
   ],
   "source": [
    "df.info()"
   ]
  },
  {
   "cell_type": "code",
   "execution_count": 251,
   "id": "d45a757b",
   "metadata": {},
   "outputs": [
    {
     "data": {
      "text/plain": [
       "Index(['fixed acidity', 'volatile acidity', 'citric acid', 'residual sugar',\n",
       "       'chlorides', 'free sulfur dioxide', 'total sulfur dioxide', 'density',\n",
       "       'pH', 'sulphates', 'alcohol', 'quality'],\n",
       "      dtype='object')"
      ]
     },
     "execution_count": 251,
     "metadata": {},
     "output_type": "execute_result"
    }
   ],
   "source": [
    "df.columns"
   ]
  },
  {
   "cell_type": "code",
   "execution_count": 252,
   "id": "7d181a65",
   "metadata": {},
   "outputs": [
    {
     "data": {
      "text/plain": [
       "(931, 12)"
      ]
     },
     "execution_count": 252,
     "metadata": {},
     "output_type": "execute_result"
    }
   ],
   "source": [
    "df.shape"
   ]
  },
  {
   "cell_type": "code",
   "execution_count": 253,
   "id": "9de6d183",
   "metadata": {},
   "outputs": [
    {
     "name": "stderr",
     "output_type": "stream",
     "text": [
      "C:\\Users\\ppbin\\AppData\\Local\\Temp\\ipykernel_14940\\1989834847.py:6: DeprecationWarning: the `interpolation=` argument to percentile was renamed to `method=`, which has additional options.\n",
      "Users of the modes 'nearest', 'lower', 'higher', or 'midpoint' are encouraged to review the method they used. (Deprecated NumPy 1.22)\n",
      "  Q1= np.percentile(df[i],25, interpolation='midpoint')\n",
      "C:\\Users\\ppbin\\AppData\\Local\\Temp\\ipykernel_14940\\1989834847.py:7: DeprecationWarning: the `interpolation=` argument to percentile was renamed to `method=`, which has additional options.\n",
      "Users of the modes 'nearest', 'lower', 'higher', or 'midpoint' are encouraged to review the method they used. (Deprecated NumPy 1.22)\n",
      "  Q2= np.percentile(df[i],50, interpolation='midpoint')\n",
      "C:\\Users\\ppbin\\AppData\\Local\\Temp\\ipykernel_14940\\1989834847.py:8: DeprecationWarning: the `interpolation=` argument to percentile was renamed to `method=`, which has additional options.\n",
      "Users of the modes 'nearest', 'lower', 'higher', or 'midpoint' are encouraged to review the method they used. (Deprecated NumPy 1.22)\n",
      "  Q3= np.percentile(df[i],75, interpolation='midpoint')\n"
     ]
    },
    {
     "data": {
      "text/plain": [
       "(928, 12)"
      ]
     },
     "execution_count": 253,
     "metadata": {},
     "output_type": "execute_result"
    }
   ],
   "source": [
    "#handling outliers\n",
    "j=1\n",
    "for i in ['fixed acidity', 'volatile acidity', 'citric acid', 'residual sugar',\n",
    "       'chlorides', 'free sulfur dioxide', 'total sulfur dioxide', 'density',\n",
    "       'pH', 'sulphates', 'alcohol', 'quality']:\n",
    "    Q1= np.percentile(df[i],25, interpolation='midpoint')\n",
    "    Q2= np.percentile(df[i],50, interpolation='midpoint')\n",
    "    Q3= np.percentile(df[i],75, interpolation='midpoint')\n",
    "    if Q2== df[i].median():\n",
    "        IQR= Q3-Q1\n",
    "        low_lim= Q1-1.5*IQR\n",
    "        up_lim= Q3+1.5*IQR\n",
    "        outlier =[]\n",
    "        for x in df[i]:\n",
    "            if(x<low_lim)or (x>up_lim):\n",
    "                outlier.append(x)\n",
    "        ind2= df[i]>up_lim\n",
    "        ind3= df[i]<low_lim\n",
    "        indicestodrop2= df.loc[ind2].index\n",
    "        indicestodrop3= df.loc[ind3].index\n",
    "        df= df.drop(indicestodrop2)\n",
    "        df= df.drop(indicestodrop3)\n",
    "    else:\n",
    "        print('check again')\n",
    "df.shape"
   ]
  },
  {
   "cell_type": "code",
   "execution_count": 254,
   "id": "33adeb03",
   "metadata": {},
   "outputs": [
    {
     "data": {
      "text/html": [
       "<div>\n",
       "<style scoped>\n",
       "    .dataframe tbody tr th:only-of-type {\n",
       "        vertical-align: middle;\n",
       "    }\n",
       "\n",
       "    .dataframe tbody tr th {\n",
       "        vertical-align: top;\n",
       "    }\n",
       "\n",
       "    .dataframe thead th {\n",
       "        text-align: right;\n",
       "    }\n",
       "</style>\n",
       "<table border=\"1\" class=\"dataframe\">\n",
       "  <thead>\n",
       "    <tr style=\"text-align: right;\">\n",
       "      <th></th>\n",
       "      <th>fixed acidity</th>\n",
       "      <th>volatile acidity</th>\n",
       "      <th>citric acid</th>\n",
       "      <th>residual sugar</th>\n",
       "      <th>chlorides</th>\n",
       "      <th>free sulfur dioxide</th>\n",
       "      <th>total sulfur dioxide</th>\n",
       "      <th>density</th>\n",
       "      <th>pH</th>\n",
       "      <th>sulphates</th>\n",
       "      <th>alcohol</th>\n",
       "      <th>quality</th>\n",
       "    </tr>\n",
       "  </thead>\n",
       "  <tbody>\n",
       "    <tr>\n",
       "      <th>0</th>\n",
       "      <td>7.4</td>\n",
       "      <td>0.70</td>\n",
       "      <td>0.00</td>\n",
       "      <td>1.9</td>\n",
       "      <td>0.076</td>\n",
       "      <td>11.0</td>\n",
       "      <td>34.0</td>\n",
       "      <td>0.9978</td>\n",
       "      <td>3.51</td>\n",
       "      <td>0.56</td>\n",
       "      <td>9.4</td>\n",
       "      <td>5</td>\n",
       "    </tr>\n",
       "    <tr>\n",
       "      <th>1</th>\n",
       "      <td>7.8</td>\n",
       "      <td>0.88</td>\n",
       "      <td>0.00</td>\n",
       "      <td>2.6</td>\n",
       "      <td>0.098</td>\n",
       "      <td>25.0</td>\n",
       "      <td>67.0</td>\n",
       "      <td>0.9968</td>\n",
       "      <td>3.20</td>\n",
       "      <td>0.68</td>\n",
       "      <td>9.8</td>\n",
       "      <td>5</td>\n",
       "    </tr>\n",
       "    <tr>\n",
       "      <th>2</th>\n",
       "      <td>7.8</td>\n",
       "      <td>0.76</td>\n",
       "      <td>0.04</td>\n",
       "      <td>2.3</td>\n",
       "      <td>0.092</td>\n",
       "      <td>15.0</td>\n",
       "      <td>54.0</td>\n",
       "      <td>0.9970</td>\n",
       "      <td>3.26</td>\n",
       "      <td>0.65</td>\n",
       "      <td>9.8</td>\n",
       "      <td>5</td>\n",
       "    </tr>\n",
       "    <tr>\n",
       "      <th>3</th>\n",
       "      <td>11.2</td>\n",
       "      <td>0.28</td>\n",
       "      <td>0.56</td>\n",
       "      <td>1.9</td>\n",
       "      <td>0.075</td>\n",
       "      <td>17.0</td>\n",
       "      <td>60.0</td>\n",
       "      <td>0.9980</td>\n",
       "      <td>3.16</td>\n",
       "      <td>0.58</td>\n",
       "      <td>9.8</td>\n",
       "      <td>6</td>\n",
       "    </tr>\n",
       "    <tr>\n",
       "      <th>4</th>\n",
       "      <td>7.4</td>\n",
       "      <td>0.70</td>\n",
       "      <td>0.00</td>\n",
       "      <td>1.9</td>\n",
       "      <td>0.076</td>\n",
       "      <td>11.0</td>\n",
       "      <td>34.0</td>\n",
       "      <td>0.9978</td>\n",
       "      <td>3.51</td>\n",
       "      <td>0.56</td>\n",
       "      <td>9.4</td>\n",
       "      <td>5</td>\n",
       "    </tr>\n",
       "  </tbody>\n",
       "</table>\n",
       "</div>"
      ],
      "text/plain": [
       "   fixed acidity  volatile acidity  citric acid  residual sugar  chlorides  \\\n",
       "0            7.4              0.70         0.00             1.9      0.076   \n",
       "1            7.8              0.88         0.00             2.6      0.098   \n",
       "2            7.8              0.76         0.04             2.3      0.092   \n",
       "3           11.2              0.28         0.56             1.9      0.075   \n",
       "4            7.4              0.70         0.00             1.9      0.076   \n",
       "\n",
       "   free sulfur dioxide  total sulfur dioxide  density    pH  sulphates  \\\n",
       "0                 11.0                  34.0   0.9978  3.51       0.56   \n",
       "1                 25.0                  67.0   0.9968  3.20       0.68   \n",
       "2                 15.0                  54.0   0.9970  3.26       0.65   \n",
       "3                 17.0                  60.0   0.9980  3.16       0.58   \n",
       "4                 11.0                  34.0   0.9978  3.51       0.56   \n",
       "\n",
       "   alcohol  quality  \n",
       "0      9.4        5  \n",
       "1      9.8        5  \n",
       "2      9.8        5  \n",
       "3      9.8        6  \n",
       "4      9.4        5  "
      ]
     },
     "execution_count": 254,
     "metadata": {},
     "output_type": "execute_result"
    }
   ],
   "source": [
    "df.head()"
   ]
  },
  {
   "cell_type": "code",
   "execution_count": 255,
   "id": "2d1e64ba",
   "metadata": {},
   "outputs": [],
   "source": [
    "corrmatrix= df.corr()"
   ]
  },
  {
   "cell_type": "code",
   "execution_count": 256,
   "id": "ce8f3659",
   "metadata": {},
   "outputs": [
    {
     "data": {
      "text/html": [
       "<div>\n",
       "<style scoped>\n",
       "    .dataframe tbody tr th:only-of-type {\n",
       "        vertical-align: middle;\n",
       "    }\n",
       "\n",
       "    .dataframe tbody tr th {\n",
       "        vertical-align: top;\n",
       "    }\n",
       "\n",
       "    .dataframe thead th {\n",
       "        text-align: right;\n",
       "    }\n",
       "</style>\n",
       "<table border=\"1\" class=\"dataframe\">\n",
       "  <thead>\n",
       "    <tr style=\"text-align: right;\">\n",
       "      <th></th>\n",
       "      <th>fixed acidity</th>\n",
       "      <th>volatile acidity</th>\n",
       "      <th>citric acid</th>\n",
       "      <th>residual sugar</th>\n",
       "      <th>chlorides</th>\n",
       "      <th>free sulfur dioxide</th>\n",
       "      <th>total sulfur dioxide</th>\n",
       "      <th>density</th>\n",
       "      <th>pH</th>\n",
       "      <th>sulphates</th>\n",
       "      <th>alcohol</th>\n",
       "      <th>quality</th>\n",
       "    </tr>\n",
       "  </thead>\n",
       "  <tbody>\n",
       "    <tr>\n",
       "      <th>fixed acidity</th>\n",
       "      <td>1.000000</td>\n",
       "      <td>-0.228955</td>\n",
       "      <td>0.590797</td>\n",
       "      <td>0.199161</td>\n",
       "      <td>0.144666</td>\n",
       "      <td>-0.155694</td>\n",
       "      <td>-0.066721</td>\n",
       "      <td>0.522449</td>\n",
       "      <td>-0.661057</td>\n",
       "      <td>0.163964</td>\n",
       "      <td>0.034287</td>\n",
       "      <td>0.112790</td>\n",
       "    </tr>\n",
       "    <tr>\n",
       "      <th>volatile acidity</th>\n",
       "      <td>-0.228955</td>\n",
       "      <td>1.000000</td>\n",
       "      <td>-0.654102</td>\n",
       "      <td>0.063854</td>\n",
       "      <td>0.118328</td>\n",
       "      <td>-0.022416</td>\n",
       "      <td>0.080494</td>\n",
       "      <td>0.120434</td>\n",
       "      <td>0.193588</td>\n",
       "      <td>-0.321440</td>\n",
       "      <td>-0.252615</td>\n",
       "      <td>-0.349133</td>\n",
       "    </tr>\n",
       "    <tr>\n",
       "      <th>citric acid</th>\n",
       "      <td>0.590797</td>\n",
       "      <td>-0.654102</td>\n",
       "      <td>1.000000</td>\n",
       "      <td>0.104107</td>\n",
       "      <td>0.016275</td>\n",
       "      <td>-0.056545</td>\n",
       "      <td>0.010001</td>\n",
       "      <td>0.189510</td>\n",
       "      <td>-0.398678</td>\n",
       "      <td>0.293848</td>\n",
       "      <td>0.206450</td>\n",
       "      <td>0.224740</td>\n",
       "    </tr>\n",
       "    <tr>\n",
       "      <th>residual sugar</th>\n",
       "      <td>0.199161</td>\n",
       "      <td>0.063854</td>\n",
       "      <td>0.104107</td>\n",
       "      <td>1.000000</td>\n",
       "      <td>0.251633</td>\n",
       "      <td>0.095760</td>\n",
       "      <td>0.191138</td>\n",
       "      <td>0.337309</td>\n",
       "      <td>-0.005284</td>\n",
       "      <td>0.058250</td>\n",
       "      <td>0.152502</td>\n",
       "      <td>0.049143</td>\n",
       "    </tr>\n",
       "    <tr>\n",
       "      <th>chlorides</th>\n",
       "      <td>0.144666</td>\n",
       "      <td>0.118328</td>\n",
       "      <td>0.016275</td>\n",
       "      <td>0.251633</td>\n",
       "      <td>1.000000</td>\n",
       "      <td>0.022960</td>\n",
       "      <td>0.203100</td>\n",
       "      <td>0.381679</td>\n",
       "      <td>-0.111090</td>\n",
       "      <td>-0.115135</td>\n",
       "      <td>-0.255493</td>\n",
       "      <td>-0.138642</td>\n",
       "    </tr>\n",
       "    <tr>\n",
       "      <th>free sulfur dioxide</th>\n",
       "      <td>-0.155694</td>\n",
       "      <td>-0.022416</td>\n",
       "      <td>-0.056545</td>\n",
       "      <td>0.095760</td>\n",
       "      <td>0.022960</td>\n",
       "      <td>1.000000</td>\n",
       "      <td>0.653752</td>\n",
       "      <td>0.003065</td>\n",
       "      <td>0.196705</td>\n",
       "      <td>0.105746</td>\n",
       "      <td>-0.023725</td>\n",
       "      <td>0.020651</td>\n",
       "    </tr>\n",
       "    <tr>\n",
       "      <th>total sulfur dioxide</th>\n",
       "      <td>-0.066721</td>\n",
       "      <td>0.080494</td>\n",
       "      <td>0.010001</td>\n",
       "      <td>0.191138</td>\n",
       "      <td>0.203100</td>\n",
       "      <td>0.653752</td>\n",
       "      <td>1.000000</td>\n",
       "      <td>0.221966</td>\n",
       "      <td>0.082208</td>\n",
       "      <td>-0.057726</td>\n",
       "      <td>-0.273778</td>\n",
       "      <td>-0.162543</td>\n",
       "    </tr>\n",
       "    <tr>\n",
       "      <th>density</th>\n",
       "      <td>0.522449</td>\n",
       "      <td>0.120434</td>\n",
       "      <td>0.189510</td>\n",
       "      <td>0.337309</td>\n",
       "      <td>0.381679</td>\n",
       "      <td>0.003065</td>\n",
       "      <td>0.221966</td>\n",
       "      <td>1.000000</td>\n",
       "      <td>-0.127470</td>\n",
       "      <td>0.059163</td>\n",
       "      <td>-0.564785</td>\n",
       "      <td>-0.221478</td>\n",
       "    </tr>\n",
       "    <tr>\n",
       "      <th>pH</th>\n",
       "      <td>-0.661057</td>\n",
       "      <td>0.193588</td>\n",
       "      <td>-0.398678</td>\n",
       "      <td>-0.005284</td>\n",
       "      <td>-0.111090</td>\n",
       "      <td>0.196705</td>\n",
       "      <td>0.082208</td>\n",
       "      <td>-0.127470</td>\n",
       "      <td>1.000000</td>\n",
       "      <td>0.016320</td>\n",
       "      <td>0.047321</td>\n",
       "      <td>-0.069194</td>\n",
       "    </tr>\n",
       "    <tr>\n",
       "      <th>sulphates</th>\n",
       "      <td>0.163964</td>\n",
       "      <td>-0.321440</td>\n",
       "      <td>0.293848</td>\n",
       "      <td>0.058250</td>\n",
       "      <td>-0.115135</td>\n",
       "      <td>0.105746</td>\n",
       "      <td>-0.057726</td>\n",
       "      <td>0.059163</td>\n",
       "      <td>0.016320</td>\n",
       "      <td>1.000000</td>\n",
       "      <td>0.278392</td>\n",
       "      <td>0.445390</td>\n",
       "    </tr>\n",
       "    <tr>\n",
       "      <th>alcohol</th>\n",
       "      <td>0.034287</td>\n",
       "      <td>-0.252615</td>\n",
       "      <td>0.206450</td>\n",
       "      <td>0.152502</td>\n",
       "      <td>-0.255493</td>\n",
       "      <td>-0.023725</td>\n",
       "      <td>-0.273778</td>\n",
       "      <td>-0.564785</td>\n",
       "      <td>0.047321</td>\n",
       "      <td>0.278392</td>\n",
       "      <td>1.000000</td>\n",
       "      <td>0.498080</td>\n",
       "    </tr>\n",
       "    <tr>\n",
       "      <th>quality</th>\n",
       "      <td>0.112790</td>\n",
       "      <td>-0.349133</td>\n",
       "      <td>0.224740</td>\n",
       "      <td>0.049143</td>\n",
       "      <td>-0.138642</td>\n",
       "      <td>0.020651</td>\n",
       "      <td>-0.162543</td>\n",
       "      <td>-0.221478</td>\n",
       "      <td>-0.069194</td>\n",
       "      <td>0.445390</td>\n",
       "      <td>0.498080</td>\n",
       "      <td>1.000000</td>\n",
       "    </tr>\n",
       "  </tbody>\n",
       "</table>\n",
       "</div>"
      ],
      "text/plain": [
       "                      fixed acidity  volatile acidity  citric acid  \\\n",
       "fixed acidity              1.000000         -0.228955     0.590797   \n",
       "volatile acidity          -0.228955          1.000000    -0.654102   \n",
       "citric acid                0.590797         -0.654102     1.000000   \n",
       "residual sugar             0.199161          0.063854     0.104107   \n",
       "chlorides                  0.144666          0.118328     0.016275   \n",
       "free sulfur dioxide       -0.155694         -0.022416    -0.056545   \n",
       "total sulfur dioxide      -0.066721          0.080494     0.010001   \n",
       "density                    0.522449          0.120434     0.189510   \n",
       "pH                        -0.661057          0.193588    -0.398678   \n",
       "sulphates                  0.163964         -0.321440     0.293848   \n",
       "alcohol                    0.034287         -0.252615     0.206450   \n",
       "quality                    0.112790         -0.349133     0.224740   \n",
       "\n",
       "                      residual sugar  chlorides  free sulfur dioxide  \\\n",
       "fixed acidity               0.199161   0.144666            -0.155694   \n",
       "volatile acidity            0.063854   0.118328            -0.022416   \n",
       "citric acid                 0.104107   0.016275            -0.056545   \n",
       "residual sugar              1.000000   0.251633             0.095760   \n",
       "chlorides                   0.251633   1.000000             0.022960   \n",
       "free sulfur dioxide         0.095760   0.022960             1.000000   \n",
       "total sulfur dioxide        0.191138   0.203100             0.653752   \n",
       "density                     0.337309   0.381679             0.003065   \n",
       "pH                         -0.005284  -0.111090             0.196705   \n",
       "sulphates                   0.058250  -0.115135             0.105746   \n",
       "alcohol                     0.152502  -0.255493            -0.023725   \n",
       "quality                     0.049143  -0.138642             0.020651   \n",
       "\n",
       "                      total sulfur dioxide   density        pH  sulphates  \\\n",
       "fixed acidity                    -0.066721  0.522449 -0.661057   0.163964   \n",
       "volatile acidity                  0.080494  0.120434  0.193588  -0.321440   \n",
       "citric acid                       0.010001  0.189510 -0.398678   0.293848   \n",
       "residual sugar                    0.191138  0.337309 -0.005284   0.058250   \n",
       "chlorides                         0.203100  0.381679 -0.111090  -0.115135   \n",
       "free sulfur dioxide               0.653752  0.003065  0.196705   0.105746   \n",
       "total sulfur dioxide              1.000000  0.221966  0.082208  -0.057726   \n",
       "density                           0.221966  1.000000 -0.127470   0.059163   \n",
       "pH                                0.082208 -0.127470  1.000000   0.016320   \n",
       "sulphates                        -0.057726  0.059163  0.016320   1.000000   \n",
       "alcohol                          -0.273778 -0.564785  0.047321   0.278392   \n",
       "quality                          -0.162543 -0.221478 -0.069194   0.445390   \n",
       "\n",
       "                       alcohol   quality  \n",
       "fixed acidity         0.034287  0.112790  \n",
       "volatile acidity     -0.252615 -0.349133  \n",
       "citric acid           0.206450  0.224740  \n",
       "residual sugar        0.152502  0.049143  \n",
       "chlorides            -0.255493 -0.138642  \n",
       "free sulfur dioxide  -0.023725  0.020651  \n",
       "total sulfur dioxide -0.273778 -0.162543  \n",
       "density              -0.564785 -0.221478  \n",
       "pH                    0.047321 -0.069194  \n",
       "sulphates             0.278392  0.445390  \n",
       "alcohol               1.000000  0.498080  \n",
       "quality               0.498080  1.000000  "
      ]
     },
     "execution_count": 256,
     "metadata": {},
     "output_type": "execute_result"
    }
   ],
   "source": [
    "#make it colored and remove columns\n",
    "corrmatrix"
   ]
  },
  {
   "cell_type": "code",
   "execution_count": 257,
   "id": "4001935d",
   "metadata": {},
   "outputs": [
    {
     "data": {
      "text/plain": [
       "Index(['fixed acidity', 'volatile acidity', 'citric acid', 'residual sugar',\n",
       "       'chlorides', 'free sulfur dioxide', 'total sulfur dioxide', 'density',\n",
       "       'pH', 'sulphates', 'alcohol', 'quality'],\n",
       "      dtype='object')"
      ]
     },
     "execution_count": 257,
     "metadata": {},
     "output_type": "execute_result"
    }
   ],
   "source": [
    "df.columns"
   ]
  },
  {
   "cell_type": "code",
   "execution_count": 258,
   "id": "3ee5a7e1",
   "metadata": {},
   "outputs": [],
   "source": [
    "X= df.drop(['quality'], axis=1)\n",
    "y= df['quality']"
   ]
  },
  {
   "cell_type": "code",
   "execution_count": 259,
   "id": "3d9b9c3c",
   "metadata": {},
   "outputs": [],
   "source": [
    "X_test, X_train, y_test, y_train= train_test_split(X,y, test_size=0.25, random_state=42)"
   ]
  },
  {
   "cell_type": "code",
   "execution_count": 260,
   "id": "e29e84c6",
   "metadata": {},
   "outputs": [],
   "source": [
    "model= lr.fit(X_train, y_train)"
   ]
  },
  {
   "cell_type": "code",
   "execution_count": 261,
   "id": "8c89a915",
   "metadata": {},
   "outputs": [],
   "source": [
    "prediction= model.predict(X_test)"
   ]
  },
  {
   "cell_type": "code",
   "execution_count": 262,
   "id": "c03ab762",
   "metadata": {},
   "outputs": [
    {
     "data": {
      "text/plain": [
       "array([5.22391922, 6.11970402, 6.53296909, 5.39268821, 5.68446505,\n",
       "       5.64787006, 5.57506006, 5.72103542, 6.03546166, 5.08580437,\n",
       "       5.31955612, 5.12943832, 5.11491814, 5.32942728, 5.41913339,\n",
       "       5.24609993, 5.5562081 , 5.3207654 , 5.28055782, 5.41945891,\n",
       "       5.00776695, 5.82862118, 5.32942728, 5.04258803, 6.11528535,\n",
       "       6.22799828, 5.02949879, 5.26475169, 6.15988966, 4.99637644,\n",
       "       5.1887794 , 6.56079607, 5.36127243, 5.08174229, 5.07684419,\n",
       "       5.77259404, 5.01675842, 5.32619714, 5.39607982, 5.7731938 ,\n",
       "       5.43551367, 5.97097166, 6.31269444, 6.16183959, 4.99107486,\n",
       "       6.66323446, 5.6796219 , 6.28133998, 6.1819129 , 6.10470161,\n",
       "       5.68122367, 5.24545798, 5.59578631, 4.83931315, 5.31693456,\n",
       "       5.53322959, 5.77921635, 6.09977945, 6.17942619, 5.30938555,\n",
       "       5.5469644 , 5.05055086, 5.23290562, 6.03332931, 5.70820734,\n",
       "       6.43061375, 6.29099419, 5.43519582, 4.93523558, 5.65051482,\n",
       "       5.39090109, 5.87212038, 5.70066681, 5.46551157, 5.8512496 ,\n",
       "       5.38262858, 5.59579263, 6.05403836, 5.41593156, 6.33131986,\n",
       "       5.23020598, 5.41593156, 5.12669641, 5.54990952, 5.14087673,\n",
       "       6.00119092, 5.25736991, 5.1058479 , 5.88746805, 4.99838171,\n",
       "       6.43559665, 5.6319639 , 6.11660773, 5.05499395, 5.72290104,\n",
       "       6.38194158, 5.46551157, 5.52320472, 5.91757728, 5.70443577,\n",
       "       4.97859912, 5.34988944, 5.52099068, 5.57116831, 5.22863149,\n",
       "       5.49662847, 5.9712676 , 5.33240421, 5.02997266, 5.12050854,\n",
       "       5.30933979, 6.24225429, 5.29178139, 5.48722714, 5.04327406,\n",
       "       5.59670193, 5.49808115, 6.36047665, 5.41998365, 6.09354469,\n",
       "       5.20255603, 5.5549661 , 5.49534897, 5.3406659 , 5.98640374,\n",
       "       6.01987852, 5.55455977, 5.27051754, 5.54748693, 5.89767693,\n",
       "       5.02592697, 5.37812088, 5.81669471, 6.46020579, 5.51976409,\n",
       "       6.14761451, 5.19973202, 6.40724375, 5.79918093, 6.39257076,\n",
       "       5.75826775, 6.39881586, 6.41473449, 6.13657948, 5.75227125,\n",
       "       5.84588816, 5.46072784, 5.6148628 , 5.77688656, 6.46993508,\n",
       "       5.02292758, 5.860498  , 6.15184328, 5.68229397, 4.87832415,\n",
       "       5.3866838 , 5.8109032 , 5.40569056, 6.2607155 , 5.20019889,\n",
       "       5.01454927, 5.32138463, 6.16380074, 5.50618395, 5.75116923,\n",
       "       5.67539416, 5.33784243, 5.72290104, 5.98449484, 5.82333827,\n",
       "       5.7597104 , 5.50304421, 6.03891592, 5.44062132, 5.4490285 ,\n",
       "       5.47478723, 5.80223205, 5.91269709, 4.97299561, 5.63166495,\n",
       "       5.01170443, 5.86208966, 5.36806683, 6.23341895, 4.91302105,\n",
       "       6.11887496, 5.55960185, 6.06943442, 6.52980923, 5.8647793 ,\n",
       "       5.32847825, 5.52162202, 5.61546679, 5.35991369, 6.56341494,\n",
       "       5.25184624, 6.14741978, 6.19993118, 5.00244852, 6.33439075,\n",
       "       5.51566659, 5.58238414, 6.13657948, 6.14741978, 5.30772407,\n",
       "       4.74682999, 5.54085327, 5.3288924 , 5.90990796, 6.26263236,\n",
       "       5.97929582, 5.12943832, 5.71122446, 6.45315046, 5.39421282,\n",
       "       5.28070505, 5.67587432, 5.32496706, 5.1942146 , 5.17411027,\n",
       "       5.51390771, 6.05797544, 6.41109444, 5.29178139, 5.33161478,\n",
       "       5.6200023 , 4.4677447 , 5.25958008, 6.39017605, 5.9368714 ,\n",
       "       5.83877982, 5.44062132, 6.29561463, 6.29404665, 5.84447037,\n",
       "       6.37017225, 5.44694577, 5.7338587 , 5.43498177, 5.90713903,\n",
       "       5.48099964, 5.60341381, 5.53333507, 6.64817985, 5.244584  ,\n",
       "       6.41356918, 5.68738462, 6.01325805, 5.87981614, 5.48393788,\n",
       "       5.48347053, 6.07899617, 5.26531805, 5.6288714 , 6.06297425,\n",
       "       5.10495482, 5.79407486, 5.94261693, 5.48319062, 5.20969045,\n",
       "       5.24768363, 6.05398267, 5.14883342, 6.24053179, 5.57116831,\n",
       "       5.49662847, 5.57506006, 6.50163984, 5.21212581, 6.1339816 ,\n",
       "       5.84186767, 5.6080676 , 5.79455976, 5.92057272, 6.06496909,\n",
       "       6.05332949, 4.94585693, 5.35041682, 5.4287077 , 5.90896095,\n",
       "       5.77819748, 5.85274761, 5.48558502, 5.21427011, 5.57792956,\n",
       "       4.98604527, 5.91247729, 5.60634631, 5.54832743, 5.77121637,\n",
       "       5.21427011, 6.17186831, 5.41116882, 5.36798285, 5.28952077,\n",
       "       5.91454053, 5.19921236, 5.4806933 , 5.3829088 , 5.79074522,\n",
       "       5.37812088, 5.24275053, 5.36446116, 6.04256342, 6.13027387,\n",
       "       6.00286803, 5.65683288, 5.36033812, 5.24545798, 4.82061883,\n",
       "       5.20591375, 6.22631741, 5.9529547 , 6.52145245, 6.05870584,\n",
       "       5.37054564, 4.8829847 , 5.02301541, 5.75884115, 5.49184554,\n",
       "       5.38292067, 5.70514939, 5.22391922, 6.03355347, 5.17950953,\n",
       "       5.41597273, 5.63028018, 5.75258435, 5.99371008, 5.67602982,\n",
       "       5.47694005, 5.31322541, 5.23852253, 6.11167785, 5.04132135,\n",
       "       6.13847086, 5.3406659 , 5.48880542, 6.1071377 , 6.17718669,\n",
       "       6.29561463, 5.80781186, 5.50269963, 5.53906788, 6.07359008,\n",
       "       5.62740297, 6.09064652, 5.5086275 , 6.25951611, 5.16806169,\n",
       "       5.28672388, 4.80918322, 5.44319883, 6.10315204, 6.2363134 ,\n",
       "       5.37904689, 5.28724909, 5.75195911, 5.23854881, 6.04019514,\n",
       "       5.04327406, 5.62548458, 5.41996471, 5.41886451, 5.53510245,\n",
       "       5.64024739, 5.28055782, 6.6342143 , 5.2702283 , 4.76033684,\n",
       "       5.98121981, 5.91247729, 5.55508568, 5.53448636, 6.14566514,\n",
       "       5.26857142, 5.38332128, 6.15213988, 5.24483554, 5.34228593,\n",
       "       6.22455861, 4.91714202, 6.12040912, 5.84186767, 5.52360382,\n",
       "       5.23259274, 5.75145583, 5.87170023, 4.96241576, 5.090669  ,\n",
       "       5.92008879, 5.62160766, 5.07306938, 5.01439111, 5.70221248,\n",
       "       5.34468704, 5.55256984, 5.78273139, 4.88000623, 5.668378  ,\n",
       "       5.37918912, 5.75227125, 5.48017911, 5.87981614, 5.23823099,\n",
       "       5.36798285, 5.25706749, 5.90552685, 6.12630516, 5.39627716,\n",
       "       6.16380074, 5.34303542, 5.68045952, 5.01675842, 5.55960185,\n",
       "       6.09411318, 5.53322959, 6.79020436, 5.92274879, 5.65779505,\n",
       "       5.17411027, 5.5170721 , 5.70066681, 4.90631746, 6.16380074,\n",
       "       5.77158784, 6.02254579, 4.99637644, 5.65201714, 5.04258803,\n",
       "       5.62723706, 5.31561929, 5.55508568, 5.83497796, 5.96700426,\n",
       "       5.81131203, 5.53655789, 5.90012303, 6.1339816 , 5.23665241,\n",
       "       5.41562433, 4.79597926, 6.22752216, 6.00707283, 5.2354366 ,\n",
       "       5.74549109, 5.73570661, 5.88939954, 6.13847086, 5.65051482,\n",
       "       6.36061033, 6.35108024, 5.27824124, 4.95354527, 5.85274761,\n",
       "       5.30512796, 6.00715261, 5.11882986, 5.88577168, 5.66757241,\n",
       "       6.12630516, 5.84588816, 5.5234514 , 5.2868542 , 5.68509467,\n",
       "       5.41365034, 6.36047665, 5.20969045, 5.09455432, 6.15363444,\n",
       "       5.98566902, 5.38009158, 5.81867886, 4.88335774, 6.51368226,\n",
       "       5.63181707, 5.52351629, 5.38999105, 5.31995859, 5.24106632,\n",
       "       5.08472806, 6.00246904, 5.90896095, 6.12629415, 5.58336002,\n",
       "       5.08472806, 5.15939055, 5.43979372, 6.41956176, 6.34242402,\n",
       "       5.91719822, 5.60608425, 4.9076347 , 5.21814845, 5.40110201,\n",
       "       5.830307  , 5.55341431, 5.73520296, 5.6715506 , 5.96998983,\n",
       "       5.3725806 , 6.01388927, 5.6691223 , 5.60362292, 5.88033296,\n",
       "       5.9392824 , 6.35350575, 5.0610449 , 5.53088808, 5.95555972,\n",
       "       5.24266433, 5.4330678 , 5.6066375 , 5.90065865, 6.36473787,\n",
       "       5.75116923, 5.25152421, 6.22799828, 5.01170443, 5.85993943,\n",
       "       5.5636463 , 5.33755794, 5.49333175, 5.90871077, 5.35991369,\n",
       "       5.90112311, 6.49805598, 5.90077505, 5.262559  , 5.90552685,\n",
       "       5.77819748, 5.85048257, 5.8573129 , 5.86208966, 5.16249635,\n",
       "       5.3288924 , 5.34135003, 5.02301541, 5.79407486, 5.69723044,\n",
       "       5.14883342, 5.66806162, 5.95389756, 5.25977636, 5.8647793 ,\n",
       "       5.63719411, 5.93457814, 5.19754741, 5.41145049, 5.30443052,\n",
       "       6.07302867, 6.06667843, 6.12383018, 5.91374434, 5.16293621,\n",
       "       5.1314866 , 6.08913251, 5.26132031, 5.80539059, 5.27130534,\n",
       "       5.79277996, 5.45900649, 6.17942619, 5.44497318, 5.12050854,\n",
       "       5.13846457, 5.35629583, 6.16897942, 5.34216792, 5.45903961,\n",
       "       6.63006414, 5.4478399 , 5.02322946, 5.73520296, 5.55255276,\n",
       "       5.42734372, 5.30772407, 5.33240421, 5.02322946, 5.69359295,\n",
       "       5.02460261, 4.98731438, 5.76160089, 5.52363867, 6.12215376,\n",
       "       5.84447037, 4.67675922, 6.19329474, 5.29027154, 4.73150588,\n",
       "       5.75227125, 5.89886812, 6.15988249, 5.56119918, 5.12924039,\n",
       "       5.28070505, 6.04019514, 5.68464512, 5.91535289, 5.69776254,\n",
       "       5.70369855, 5.61047052, 5.65550599, 5.74714754, 6.26733876,\n",
       "       6.18954232, 6.35108024, 6.32855389, 5.87094476, 5.76587934,\n",
       "       5.44497318, 4.98585008, 6.41356918, 5.43242652, 5.54755148,\n",
       "       5.24579503, 4.99448013, 5.61705006, 5.73467624, 5.49678671,\n",
       "       5.43680515, 6.25951611, 5.30938555, 5.47371909, 5.4574601 ,\n",
       "       5.14392715, 5.29178139, 4.8213473 , 5.43818344, 5.76529023,\n",
       "       5.53626143, 5.41972681, 5.9630265 , 6.69803891, 5.18120074,\n",
       "       6.11689043, 5.56765468, 5.5234514 , 6.36578647, 5.55255276,\n",
       "       5.24502217, 5.22791489, 5.30772407, 5.87911743, 5.70621921,\n",
       "       4.89497321, 5.28933441, 5.55173414, 5.98567384, 5.07589226,\n",
       "       5.01414387, 5.25693106, 5.41355142, 5.81547468, 5.41145049,\n",
       "       6.54736175, 5.27051754, 5.8093045 , 5.73160525, 5.25421177,\n",
       "       5.75227125, 6.19605419, 5.54177136, 5.4807394 , 6.38312166,\n",
       "       5.8215643 , 6.00443456, 5.63764652, 5.2413533 , 5.67583666,\n",
       "       5.31205088, 6.44355027, 5.28397559, 5.33114638, 5.08580437,\n",
       "       5.25736991, 5.22145709, 5.77562736, 4.9955071 , 5.35795592,\n",
       "       5.28055782, 5.02340578, 5.47914261, 5.04639607, 5.69723044,\n",
       "       5.80223205, 5.99945433, 6.21597896, 5.78480759, 5.5789133 ,\n",
       "       5.24377295, 5.10136889, 5.24210103, 5.43902557, 6.29627067,\n",
       "       5.24609993])"
      ]
     },
     "execution_count": 262,
     "metadata": {},
     "output_type": "execute_result"
    }
   ],
   "source": [
    "#prediction of y_test\n",
    "prediction"
   ]
  },
  {
   "cell_type": "code",
   "execution_count": 263,
   "id": "27b37d3c",
   "metadata": {},
   "outputs": [
    {
     "data": {
      "text/plain": [
       "590     5\n",
       "1311    6\n",
       "838     7\n",
       "100     6\n",
       "681     6\n",
       "       ..\n",
       "186     5\n",
       "542     5\n",
       "1506    6\n",
       "857     7\n",
       "180     5\n",
       "Name: quality, Length: 696, dtype: int64"
      ]
     },
     "execution_count": 263,
     "metadata": {},
     "output_type": "execute_result"
    }
   ],
   "source": [
    "#actual values of y test\n",
    "y_test"
   ]
  },
  {
   "cell_type": "code",
   "execution_count": 264,
   "id": "309c372d",
   "metadata": {},
   "outputs": [
    {
     "name": "stdout",
     "output_type": "stream",
     "text": [
      "MSE is:  0.3456870223560701\n"
     ]
    }
   ],
   "source": [
    "#now to test if it is a good model\n",
    "print('MSE is: ', mean_squared_error(y_test, prediction))"
   ]
  },
  {
   "cell_type": "code",
   "execution_count": 265,
   "id": "01f6d97e",
   "metadata": {
    "scrolled": true
   },
   "outputs": [
    {
     "name": "stdout",
     "output_type": "stream",
     "text": [
      "R squared value is: 0.35340804368766277\n"
     ]
    }
   ],
   "source": [
    "print('R squared value is:', r2_score(y_test, prediction))"
   ]
  },
  {
   "cell_type": "code",
   "execution_count": 266,
   "id": "044dc7c4",
   "metadata": {},
   "outputs": [],
   "source": [
    "#scaling\n",
    "from sklearn.preprocessing import MinMaxScaler\n",
    "min_max= MinMaxScaler(feature_range=(0,1))\n",
    "\n",
    "#min_max for minmaxscaling\n",
    "X1 = min_max.fit_transform(X)\n",
    "X1 = pd.DataFrame(X,columns=['fixed acidity', 'volatile acidity', 'citric acid', 'residual sugar',\n",
    "       'chlorides', 'free sulfur dioxide', 'total sulfur dioxide', 'density',\n",
    "       'pH', 'sulphates', 'alcohol'])\n",
    "X.drop(['fixed acidity', 'volatile acidity', 'citric acid', 'residual sugar',\n",
    "       'chlorides', 'free sulfur dioxide', 'total sulfur dioxide', 'density',\n",
    "       'pH', 'sulphates', 'alcohol'],axis=1,inplace=True)\n",
    "X = pd.concat([X.reset_index(drop=True), X1.reset_index(drop=True)], axis=1)"
   ]
  },
  {
   "cell_type": "code",
   "execution_count": 200,
   "id": "f9e9bf99",
   "metadata": {},
   "outputs": [
    {
     "name": "stdout",
     "output_type": "stream",
     "text": [
      "MSE is:  0.3429722019806895\n",
      "R squared value is:  0.32870284724825183\n"
     ]
    }
   ],
   "source": [
    "X_train, X_test, y_train, y_test = train_test_split(X,y,test_size=0.2,random_state=42)\n",
    "lr = LinearRegression()\n",
    "model = lr.fit(X_train, y_train)\n",
    "pred = model.predict(X_test)\n",
    "\n",
    "print('MSE is: ', mean_squared_error(y_test, pred))\n",
    "print('R squared value is: ', r2_score(y_test, pred))"
   ]
  },
  {
   "cell_type": "code",
   "execution_count": 201,
   "id": "e977b7a9",
   "metadata": {},
   "outputs": [
    {
     "data": {
      "text/plain": [
       "1450    0.743895\n",
       "117     0.869630\n",
       "1143   -0.041573\n",
       "954     0.001121\n",
       "1468    1.406101\n",
       "          ...   \n",
       "2      -0.449153\n",
       "1459    0.285662\n",
       "1306   -0.387934\n",
       "1005    0.665281\n",
       "5      -0.179752\n",
       "Name: quality, Length: 187, dtype: float64"
      ]
     },
     "execution_count": 201,
     "metadata": {},
     "output_type": "execute_result"
    }
   ],
   "source": [
    "# Residual Analysis\n",
    "res = y_test-pred\n",
    "res"
   ]
  },
  {
   "cell_type": "code",
   "execution_count": 202,
   "id": "40aa2439",
   "metadata": {},
   "outputs": [
    {
     "data": {
      "text/html": [
       "<div>\n",
       "<style scoped>\n",
       "    .dataframe tbody tr th:only-of-type {\n",
       "        vertical-align: middle;\n",
       "    }\n",
       "\n",
       "    .dataframe tbody tr th {\n",
       "        vertical-align: top;\n",
       "    }\n",
       "\n",
       "    .dataframe thead th {\n",
       "        text-align: right;\n",
       "    }\n",
       "</style>\n",
       "<table border=\"1\" class=\"dataframe\">\n",
       "  <thead>\n",
       "    <tr style=\"text-align: right;\">\n",
       "      <th></th>\n",
       "      <th>Predicted</th>\n",
       "    </tr>\n",
       "  </thead>\n",
       "  <tbody>\n",
       "    <tr>\n",
       "      <th>0</th>\n",
       "      <td>6.256105</td>\n",
       "    </tr>\n",
       "    <tr>\n",
       "      <th>1</th>\n",
       "      <td>5.130370</td>\n",
       "    </tr>\n",
       "    <tr>\n",
       "      <th>2</th>\n",
       "      <td>6.041573</td>\n",
       "    </tr>\n",
       "    <tr>\n",
       "      <th>3</th>\n",
       "      <td>5.998879</td>\n",
       "    </tr>\n",
       "    <tr>\n",
       "      <th>4</th>\n",
       "      <td>5.593899</td>\n",
       "    </tr>\n",
       "    <tr>\n",
       "      <th>...</th>\n",
       "      <td>...</td>\n",
       "    </tr>\n",
       "    <tr>\n",
       "      <th>182</th>\n",
       "      <td>5.449153</td>\n",
       "    </tr>\n",
       "    <tr>\n",
       "      <th>183</th>\n",
       "      <td>6.714338</td>\n",
       "    </tr>\n",
       "    <tr>\n",
       "      <th>184</th>\n",
       "      <td>5.387934</td>\n",
       "    </tr>\n",
       "    <tr>\n",
       "      <th>185</th>\n",
       "      <td>6.334719</td>\n",
       "    </tr>\n",
       "    <tr>\n",
       "      <th>186</th>\n",
       "      <td>5.179752</td>\n",
       "    </tr>\n",
       "  </tbody>\n",
       "</table>\n",
       "<p>187 rows × 1 columns</p>\n",
       "</div>"
      ],
      "text/plain": [
       "     Predicted\n",
       "0     6.256105\n",
       "1     5.130370\n",
       "2     6.041573\n",
       "3     5.998879\n",
       "4     5.593899\n",
       "..         ...\n",
       "182   5.449153\n",
       "183   6.714338\n",
       "184   5.387934\n",
       "185   6.334719\n",
       "186   5.179752\n",
       "\n",
       "[187 rows x 1 columns]"
      ]
     },
     "execution_count": 202,
     "metadata": {},
     "output_type": "execute_result"
    }
   ],
   "source": [
    "pred=pd.DataFrame(pred,columns=['Predicted'])\n",
    "pred"
   ]
  },
  {
   "cell_type": "code",
   "execution_count": 203,
   "id": "87aa1c78",
   "metadata": {},
   "outputs": [
    {
     "data": {
      "image/png": "[encoded data removed]",
      "text/plain": [
       "<Figure size 640x480 with 1 Axes>"
      ]
     },
     "metadata": {},
     "output_type": "display_data"
    }
   ],
   "source": [
    "#Residual Analysis – Actual Vs Predicted Plot\n",
    "plt.scatter(y_test, pred)\n",
    "plt.title(\"Actual vs Predicted Plot\")\n",
    "plt.xlabel(\"Actual price\")\n",
    "plt.ylabel(\"Predicted price\")\n",
    "plt.grid()\n",
    "plt.show()"
   ]
  },
  {
   "cell_type": "code",
   "execution_count": 204,
   "id": "50bc825f",
   "metadata": {},
   "outputs": [
    {
     "data": {
      "image/png": "[encoded data removed]",
      "text/plain": [
       "<Figure size 640x480 with 1 Axes>"
      ]
     },
     "metadata": {},
     "output_type": "display_data"
    }
   ],
   "source": [
    "#Residual Analysis: Normality test\n",
    "norm_test = stats.normaltest(res)\n",
    "w = norm_test[0]\n",
    "p_value = norm_test[1]\n",
    "stats.probplot(res, plot= plt)\n",
    "plt.grid()\n",
    "plt.show()"
   ]
  },
  {
   "cell_type": "code",
   "execution_count": null,
   "id": "3a533538",
   "metadata": {},
   "outputs": [],
   "source": []
  },
  {
   "cell_type": "code",
   "execution_count": 207,
   "id": "ebcf340c",
   "metadata": {},
   "outputs": [
    {
     "data": {
      "text/plain": [
       "4"
      ]
     },
     "execution_count": 207,
     "metadata": {},
     "output_type": "execute_result"
    }
   ],
   "source": [
    "df['quality'].nunique()"
   ]
  },
  {
   "cell_type": "code",
   "execution_count": 208,
   "id": "01b6879f",
   "metadata": {},
   "outputs": [
    {
     "data": {
      "text/plain": [
       "array([5, 6, 7, 4], dtype=int64)"
      ]
     },
     "execution_count": 208,
     "metadata": {},
     "output_type": "execute_result"
    }
   ],
   "source": [
    "df['quality'].unique()"
   ]
  },
  {
   "cell_type": "code",
   "execution_count": 209,
   "id": "f129916e",
   "metadata": {},
   "outputs": [
    {
     "data": {
      "image/png": "[encoded data removed]",
      "text/plain": [
       "<Figure size 3000x1600 with 2 Axes>"
      ]
     },
     "metadata": {},
     "output_type": "display_data"
    }
   ],
   "source": [
    "#Heat map\n",
    "#vmin for color minimum\n",
    "plt.subplots(figsize=(30,16))\n",
    "sns.heatmap(df.corr(),annot=True, cmap=\"RdYlGn\")\n",
    "plt.show()"
   ]
  },
  {
   "cell_type": "code",
   "execution_count": 210,
   "id": "987df055",
   "metadata": {},
   "outputs": [],
   "source": [
    "#density, fixed density, take the columns which has low correlation.\n",
    "#the colors define where the corrleation is the highest\n",
    "#check highly correlated columns, then drop columns which are low\n",
    "#-ly correlated to quality.\n",
    "#open image\n",
    "#only few columns so just this\n",
    "data1= df.drop(['fixed acidity', 'free sulfur dioxide'], axis=1)"
   ]
  },
  {
   "cell_type": "code",
   "execution_count": 211,
   "id": "62f99aa6",
   "metadata": {},
   "outputs": [],
   "source": [
    "y= data1['quality']\n",
    "X= data1.drop('quality', axis=1)"
   ]
  },
  {
   "cell_type": "code",
   "execution_count": 212,
   "id": "16c14660",
   "metadata": {},
   "outputs": [],
   "source": [
    "from sklearn.model_selection import train_test_split\n",
    "X_train, X_test, y_train, y_test= train_test_split(X,y, test_size=0.2, \n",
    "                                                  random_state=42)"
   ]
  },
  {
   "cell_type": "code",
   "execution_count": 213,
   "id": "230f735a",
   "metadata": {},
   "outputs": [],
   "source": [
    "from sklearn.linear_model import LinearRegression"
   ]
  },
  {
   "cell_type": "code",
   "execution_count": 214,
   "id": "b93f9965",
   "metadata": {},
   "outputs": [],
   "source": [
    "#take as instance variable\n",
    "lr= LinearRegression()"
   ]
  },
  {
   "cell_type": "code",
   "execution_count": 215,
   "id": "94303a62",
   "metadata": {},
   "outputs": [],
   "source": [
    "model= lr.fit(X_train, y_train)"
   ]
  },
  {
   "cell_type": "code",
   "execution_count": 216,
   "id": "136722e8",
   "metadata": {},
   "outputs": [],
   "source": [
    "prediction= model.predict(X_test)"
   ]
  },
  {
   "cell_type": "code",
   "execution_count": 217,
   "id": "57c36dc2",
   "metadata": {},
   "outputs": [],
   "source": [
    "from sklearn.metrics import mean_squared_error, r2_score"
   ]
  },
  {
   "cell_type": "code",
   "execution_count": 218,
   "id": "548b431e",
   "metadata": {},
   "outputs": [
    {
     "data": {
      "text/plain": [
       "0.34276490215418126"
      ]
     },
     "execution_count": 218,
     "metadata": {},
     "output_type": "execute_result"
    }
   ],
   "source": [
    "mean_squared_error(y_test, prediction)"
   ]
  },
  {
   "cell_type": "code",
   "execution_count": 219,
   "id": "c9257ec3",
   "metadata": {},
   "outputs": [
    {
     "data": {
      "text/plain": [
       "0.3291085937854267"
      ]
     },
     "execution_count": 219,
     "metadata": {},
     "output_type": "execute_result"
    }
   ],
   "source": [
    "r2_score(y_test, prediction)"
   ]
  },
  {
   "cell_type": "code",
   "execution_count": null,
   "id": "cde46f2a",
   "metadata": {},
   "outputs": [],
   "source": []
  }
 ],
 "metadata": {
  "kernelspec": {
   "display_name": "Python 3 (ipykernel)",
   "language": "python",
   "name": "python3"
  },
  "language_info": {
   "codemirror_mode": {
    "name": "ipython",
    "version": 3
   },
   "file_extension": ".py",
   "mimetype": "text/x-python",
   "name": "python",
   "nbconvert_exporter": "python",
   "pygments_lexer": "ipython3",
   "version": "3.10.9"
  }
 },
 "nbformat": 4,
 "nbformat_minor": 5
}
