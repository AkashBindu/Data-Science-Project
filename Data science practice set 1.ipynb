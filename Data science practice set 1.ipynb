{
 "cells": [
  {
   "cell_type": "code",
   "execution_count": 1,
   "id": "abe8ea1b",
   "metadata": {},
   "outputs": [
    {
     "name": "stdout",
     "output_type": "stream",
     "text": [
      "Enter the radius:3\n"
     ]
    }
   ],
   "source": [
    "#Write a Python program which accepts the radius of a circle from the user and compute the area.\n",
    "#inputing radius\n",
    "r = float(input('Enter the radius:'))"
   ]
  },
  {
   "cell_type": "code",
   "execution_count": 2,
   "id": "861c7120",
   "metadata": {},
   "outputs": [],
   "source": [
    "#calculating area\n",
    "\n",
    "import math "
   ]
  },
  {
   "cell_type": "code",
   "execution_count": 3,
   "id": "fb490ca1",
   "metadata": {},
   "outputs": [],
   "source": [
    "area = math.pi*r*r"
   ]
  },
  {
   "cell_type": "code",
   "execution_count": 4,
   "id": "20c8dad5",
   "metadata": {},
   "outputs": [
    {
     "name": "stdout",
     "output_type": "stream",
     "text": [
      "\n",
      "The area of the circle is 28.274333882308138\n"
     ]
    }
   ],
   "source": [
    "#displaying area\n",
    "print('\\nThe area of the circle is', area)"
   ]
  },
  {
   "cell_type": "code",
   "execution_count": 5,
   "id": "0a84cf47",
   "metadata": {},
   "outputs": [],
   "source": [
    "#2. Write a Python Program to accept the details of a student like name, roll number and mark and display it."
   ]
  },
  {
   "cell_type": "code",
   "execution_count": 6,
   "id": "bc2b9b91",
   "metadata": {},
   "outputs": [
    {
     "name": "stdout",
     "output_type": "stream",
     "text": [
      "Enter name of the student:Anisha\n"
     ]
    }
   ],
   "source": [
    "#inputing name\n",
    "name = input('Enter name of the student:')"
   ]
  },
  {
   "cell_type": "code",
   "execution_count": 7,
   "id": "880a936c",
   "metadata": {},
   "outputs": [
    {
     "name": "stdout",
     "output_type": "stream",
     "text": [
      "Enter roll number of the student:21\n"
     ]
    }
   ],
   "source": [
    "#inputing roll number\n",
    "r_no = int(input('Enter roll number of the student:'))"
   ]
  },
  {
   "cell_type": "code",
   "execution_count": 8,
   "id": "6d7a9ebb",
   "metadata": {},
   "outputs": [
    {
     "name": "stdout",
     "output_type": "stream",
     "text": [
      "Enter mark of the student:78\n"
     ]
    }
   ],
   "source": [
    "#inputing marks\n",
    "marks = int(input('Enter mark of the student:'))"
   ]
  },
  {
   "cell_type": "code",
   "execution_count": 9,
   "id": "c10c0007",
   "metadata": {},
   "outputs": [
    {
     "name": "stdout",
     "output_type": "stream",
     "text": [
      "\n",
      "Name: Anisha\n",
      "Roll number: 21\n",
      "Mark: 78\n"
     ]
    }
   ],
   "source": [
    "print('\\nName:', name)\n",
    "print('Roll number:', r_no)\n",
    "print('Mark:', marks )"
   ]
  },
  {
   "cell_type": "code",
   "execution_count": 10,
   "id": "24af2687",
   "metadata": {},
   "outputs": [],
   "source": [
    "#3. Write a Python program to get the largest number from a list"
   ]
  },
  {
   "cell_type": "code",
   "execution_count": 11,
   "id": "0df9f258",
   "metadata": {},
   "outputs": [],
   "source": [
    "# method 1\n",
    "#entering list values\n",
    "l1 = [12, 3, 47, 10]"
   ]
  },
  {
   "cell_type": "code",
   "execution_count": 12,
   "id": "3dee7bd0",
   "metadata": {},
   "outputs": [
    {
     "name": "stdout",
     "output_type": "stream",
     "text": [
      "Maximum value in [12, 3, 47, 10] is 47\n"
     ]
    }
   ],
   "source": [
    "#printing maximum value in the list\n",
    "print('Maximum value in', l1, 'is', max(l1))"
   ]
  },
  {
   "cell_type": "code",
   "execution_count": null,
   "id": "f59e2e2b",
   "metadata": {},
   "outputs": [
    {
     "name": "stdout",
     "output_type": "stream",
     "text": [
      "Enter list elements: 13\n",
      "Enter list elements: 15\n",
      "Enter list elements: 17\n"
     ]
    }
   ],
   "source": [
    "#inputing the list elements\n",
    "\n",
    "for i in range (1,num+1):\n",
    "    a = int(input('Enter list elements: '))\n",
    "    l2.append(a)"
   ]
  },
  {
   "cell_type": "code",
   "execution_count": 13,
   "id": "b543a8f5",
   "metadata": {},
   "outputs": [],
   "source": [
    "# method 2\n",
    "#creating an empty list to take values\n",
    "l2 = []"
   ]
  },
  {
   "cell_type": "code",
   "execution_count": 14,
   "id": "091175f3",
   "metadata": {},
   "outputs": [
    {
     "name": "stdout",
     "output_type": "stream",
     "text": [
      "Enter number of list elements: 4\n"
     ]
    }
   ],
   "source": [
    "#inputing number of elements in the list\n",
    "num = int(input('Enter number of list elements: '))\n"
   ]
  },
  {
   "cell_type": "code",
   "execution_count": 15,
   "id": "e50c61dd",
   "metadata": {},
   "outputs": [
    {
     "name": "stdout",
     "output_type": "stream",
     "text": [
      "Enter list elements: 12\n",
      "Enter list elements: 3\n",
      "Enter list elements: 47\n",
      "Enter list elements: 10\n"
     ]
    }
   ],
   "source": [
    "\n",
    "#inputing the list elements\n",
    "\n",
    "for i in range (1,num+1):\n",
    "    a = int(input('Enter list elements: '))\n",
    "    l2.append(a)\n",
    "    \n"
   ]
  },
  {
   "cell_type": "code",
   "execution_count": 16,
   "id": "adae1e77",
   "metadata": {},
   "outputs": [
    {
     "name": "stdout",
     "output_type": "stream",
     "text": [
      "\n",
      "Maximum value in [12, 3, 47, 10] is 47\n"
     ]
    }
   ],
   "source": [
    "#printing maximum value in the list\n",
    "print('\\nMaximum value in', l2, 'is', max(l2))"
   ]
  },
  {
   "cell_type": "code",
   "execution_count": 17,
   "id": "7cb19ae1",
   "metadata": {},
   "outputs": [],
   "source": [
    "#4. Given a range of first 10 numbers, write a Python program to iterate from start number to the end number and print the sum of the current number and previous number."
   ]
  },
  {
   "cell_type": "code",
   "execution_count": 18,
   "id": "aa31594c",
   "metadata": {},
   "outputs": [],
   "source": [
    "l = range(1,11)"
   ]
  },
  {
   "cell_type": "code",
   "execution_count": 19,
   "id": "681837c6",
   "metadata": {},
   "outputs": [
    {
     "name": "stdout",
     "output_type": "stream",
     "text": [
      "The sum of current number 1 and previous number 0 is 1\n",
      "The sum of current number 2 and previous number 1 is 3\n",
      "The sum of current number 3 and previous number 2 is 5\n",
      "The sum of current number 4 and previous number 3 is 7\n",
      "The sum of current number 5 and previous number 4 is 9\n",
      "The sum of current number 6 and previous number 5 is 11\n",
      "The sum of current number 7 and previous number 6 is 13\n",
      "The sum of current number 8 and previous number 7 is 15\n",
      "The sum of current number 9 and previous number 8 is 17\n",
      "The sum of current number 10 and previous number 9 is 19\n"
     ]
    }
   ],
   "source": [
    "#calculating sum of current number and previous number\n",
    "for i in l:\n",
    "    j = i-1\n",
    "    sum1 = i+j\n",
    "    #printing the sum of current and previous number\n",
    "    print('The sum of current number',i,'and previous number',j,'is', sum1)"
   ]
  },
  {
   "cell_type": "code",
   "execution_count": 20,
   "id": "df51a34f",
   "metadata": {},
   "outputs": [],
   "source": [
    "#5. Write a Python program to print only those numbers which are divisible of 5"
   ]
  },
  {
   "cell_type": "code",
   "execution_count": 21,
   "id": "60df669e",
   "metadata": {},
   "outputs": [
    {
     "name": "stdout",
     "output_type": "stream",
     "text": [
      "Enter the limit5\n",
      "Enter the list elements10\n",
      "Enter the list elements20\n",
      "Enter the list elements33\n",
      "Enter the list elements46\n",
      "Enter the list elements55\n"
     ]
    }
   ],
   "source": [
    "l=int(input('Enter the limit'))\n",
    "num=[]\n",
    "#input the elemets\n",
    "for i in range(1,l+1):\n",
    "  x=int(input('Enter the list elements'))\n",
    "  num.append(x)"
   ]
  },
  {
   "cell_type": "code",
   "execution_count": 22,
   "id": "ed7b99cc",
   "metadata": {},
   "outputs": [
    {
     "name": "stdout",
     "output_type": "stream",
     "text": [
      "10\n",
      "20\n",
      "55\n"
     ]
    }
   ],
   "source": [
    "#printing number divisible by 5\n",
    "for j in num:\n",
    "  if j%5==0:print(j)"
   ]
  },
  {
   "cell_type": "code",
   "execution_count": 23,
   "id": "b2e4b264",
   "metadata": {},
   "outputs": [],
   "source": [
    "#6. Write a Python program to check whether a number is prime or not"
   ]
  },
  {
   "cell_type": "code",
   "execution_count": 24,
   "id": "9bb08cf8",
   "metadata": {},
   "outputs": [
    {
     "name": "stdout",
     "output_type": "stream",
     "text": [
      "Enter the number: 3\n"
     ]
    }
   ],
   "source": [
    "#inputing number\n",
    "num = int(input('Enter the number: '))"
   ]
  },
  {
   "cell_type": "code",
   "execution_count": null,
   "id": "1ce4241d",
   "metadata": {},
   "outputs": [],
   "source": [
    "#checking prime or not\n",
    "if num > 1:  \n",
    "   for i in range(2,num):  \n",
    "       if (num % i) == 0:  \n",
    "           print(num,\"is not a prime number\")  \n",
    "           break  \n",
    "   else:  \n",
    "       print(num,\"is a prime number\")  \n",
    "         \n",
    "else:  \n",
    "   print('The number is zero') "
   ]
  },
  {
   "cell_type": "code",
   "execution_count": null,
   "id": "c436c098",
   "metadata": {},
   "outputs": [],
   "source": [
    "#7. Write a Python program to reverse a list using for loop.\n"
   ]
  },
  {
   "cell_type": "code",
   "execution_count": 1,
   "id": "84279227",
   "metadata": {},
   "outputs": [
    {
     "name": "stdout",
     "output_type": "stream",
     "text": [
      "Enter the number of list elements: 4\n",
      "Please enter the 1 element of list : 10\n",
      "Please enter the 2 element of list : 30\n",
      "Please enter the 3 element of list : 40\n",
      "Please enter the 4 element of list : 70\n",
      "\n",
      "Actual list [10, 30, 40, 70]\n",
      "\n",
      "Reversed List =   [70, 40, 30, 10]\n"
     ]
    }
   ],
   "source": [
    "l1 = []\n",
    "\n",
    "num = int(input(\"Enter the number of list elements: \"))\n",
    "for i in range(1, num + 1):\n",
    "    value = int(input(\"Please enter the %d element of list : \" %i))\n",
    "    l1.append(value)\n",
    "\n",
    "print('\\nActual list', l1)\n",
    "l1.reverse()\n",
    "print(\"\\nReversed List =  \", l1)"
   ]
  },
  {
   "cell_type": "code",
   "execution_count": 2,
   "id": "41bc65b5",
   "metadata": {},
   "outputs": [
    {
     "name": "stdout",
     "output_type": "stream",
     "text": [
      "Enter the number of list elements: 4\n",
      "Please enter the 1 element of list : 10\n",
      "Please enter the 2 element of list : 30\n",
      "Please enter the 3 element of list : 40\n",
      "Please enter the 4 element of list : 70\n",
      "[70, 40, 30, 10]\n"
     ]
    }
   ],
   "source": [
    "#Method 2\n",
    "l1 = []\n",
    "l2=[]\n",
    "\n",
    "\n",
    "num = int(input(\"Enter the number of list elements: \"))\n",
    "for i in range(1, num + 1):\n",
    "    value = int(input(\"Please enter the %d element of list : \" %i))\n",
    "    l1.append(value)\n",
    "\n",
    "for item in reversed(l1):\n",
    "    l2.append(item)\n",
    "print(l2)"
   ]
  },
  {
   "cell_type": "code",
   "execution_count": null,
   "id": "81fda598",
   "metadata": {},
   "outputs": [],
   "source": [
    "#8. Write a Python program to print the following pattern."
   ]
  },
  {
   "cell_type": "code",
   "execution_count": 3,
   "id": "770cd825",
   "metadata": {},
   "outputs": [
    {
     "name": "stdout",
     "output_type": "stream",
     "text": [
      "Enter the number of rows: 4\n"
     ]
    }
   ],
   "source": [
    "num = int(input(\"Enter the number of rows: \")) \n"
   ]
  },
  {
   "cell_type": "code",
   "execution_count": 4,
   "id": "3901c974",
   "metadata": {},
   "outputs": [
    {
     "name": "stdout",
     "output_type": "stream",
     "text": [
      "* \n",
      "* * \n",
      "* * * \n",
      "* * * * \n"
     ]
    }
   ],
   "source": [
    "#outer loop to handle number of rows  \n",
    "for i in range(0, num):  \n",
    "    # inner loop to handle number of columns. values is changing according to outer loop  \n",
    "        for j in range(0, i + 1):  \n",
    "            # printing stars  \n",
    "            print(\"* \", end=\"\")       \n",
    "  \n",
    "        # ending line after each row  \n",
    "        print()"
   ]
  },
  {
   "cell_type": "code",
   "execution_count": null,
   "id": "f5a50fe4",
   "metadata": {},
   "outputs": [],
   "source": [
    "#Write a Python program to find the maximum of three numbers"
   ]
  },
  {
   "cell_type": "code",
   "execution_count": 1,
   "id": "21075c1e",
   "metadata": {},
   "outputs": [
    {
     "name": "stdout",
     "output_type": "stream",
     "text": [
      "Enter a 24\n",
      "Enter b 34\n",
      "Enter c 16\n",
      "Larger is 34\n"
     ]
    }
   ],
   "source": [
    "a=int(input('Enter a '))\n",
    "b=int(input('Enter b '))\n",
    "c=int(input('Enter c '))\n",
    "if (a>b) and (a>c):\n",
    "  print('Larger is',a)\n",
    "elif (b>a) and (b>c):\n",
    "  print('Larger is',b)\n",
    "elif(c>a) and (c>b):\n",
    "  print('Larger is',c)"
   ]
  },
  {
   "cell_type": "code",
   "execution_count": null,
   "id": "bba18018",
   "metadata": {},
   "outputs": [],
   "source": [
    "#Write a Python program to construct the following pattern, using a nested for loop"
   ]
  },
  {
   "cell_type": "code",
   "execution_count": 5,
   "id": "0ae52f41",
   "metadata": {},
   "outputs": [
    {
     "name": "stdout",
     "output_type": "stream",
     "text": [
      "Enter the maximum * needed: 5\n",
      "\n",
      "* \n",
      "* * \n",
      "* * * \n",
      "* * * * \n",
      "* * * * * \n",
      "* * * * \n",
      "* * * \n",
      "* * \n",
      "* \n"
     ]
    }
   ],
   "source": [
    "#inputing the number\n",
    "num = int(input('Enter the maximum * needed: '))\n",
    "\n",
    "for i in range(num):\n",
    "    for j in range(i):\n",
    "        print ('* ', end=\"\")\n",
    "    print('')\n",
    "\n",
    "for i in range(num,0,-1):\n",
    "    for j in range(i):\n",
    "        print('* ', end=\"\")\n",
    "    print('')"
   ]
  },
  {
   "cell_type": "code",
   "execution_count": null,
   "id": "24998105",
   "metadata": {},
   "outputs": [],
   "source": []
  }
 ],
 "metadata": {
  "kernelspec": {
   "display_name": "Python 3 (ipykernel)",
   "language": "python",
   "name": "python3"
  },
  "language_info": {
   "codemirror_mode": {
    "name": "ipython",
    "version": 3
   },
   "file_extension": ".py",
   "mimetype": "text/x-python",
   "name": "python",
   "nbconvert_exporter": "python",
   "pygments_lexer": "ipython3",
   "version": "3.10.9"
  }
 },
 "nbformat": 4,
 "nbformat_minor": 5
}
